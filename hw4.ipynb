{
  "nbformat": 4,
  "nbformat_minor": 0,
  "metadata": {
    "colab": {
      "name": "hw4.ipynb",
      "provenance": [],
      "collapsed_sections": [
        "vi9MJGa3cz5a"
      ],
      "authorship_tag": "ABX9TyM0w4HgUfqAQYiadB6U4PMB",
      "include_colab_link": true
    },
    "kernelspec": {
      "display_name": "Python 3",
      "name": "python3"
    }
  },
  "cells": [
    {
      "cell_type": "markdown",
      "metadata": {
        "id": "view-in-github",
        "colab_type": "text"
      },
      "source": [
        "<a href=\"https://colab.research.google.com/github/kganesh1999/5292353_CAP5610_Assignment/blob/main/hw4.ipynb\" target=\"_parent\"><img src=\"https://colab.research.google.com/assets/colab-badge.svg\" alt=\"Open In Colab\"/></a>"
      ]
    },
    {
      "cell_type": "code",
      "metadata": {
        "id": "Bo3fXIMKk7Rr"
      },
      "source": [
        "import numpy as np\r\n",
        "import pandas as pd\r\n",
        "import random\r\n",
        "import time\r\n",
        "import matplotlib.pyplot as plt\r\n"
      ],
      "execution_count": 95,
      "outputs": []
    },
    {
      "cell_type": "markdown",
      "metadata": {
        "id": "weay0iedHkUP"
      },
      "source": [
        "Distance metrics function"
      ]
    },
    {
      "cell_type": "code",
      "metadata": {
        "id": "KdzxWB0PHg_N"
      },
      "source": [
        "def euclidian(p1, p2):\r\n",
        "  distance = np.linalg.norm(p1-p2)\r\n",
        "  return distance\r\n",
        "def manhattan(p1, p2):\r\n",
        "  distance = np.abs(p1-p2).sum()\r\n",
        "  return distance\r\n",
        "def cosine_similarity(p1,p2):\r\n",
        "  distance = np.dot(p1, p2)/(np.linalg.norm(p1)*np.linalg.norm(p2))\r\n",
        "  return 1 - distance\r\n",
        "def jaccard_similarity(p1,p2):\r\n",
        "    numer = 0\r\n",
        "    denom = 0\r\n",
        "    for i in range(len(p1)):\r\n",
        "      numer = numer + min(p1[i],p2[i])\r\n",
        "      denom = denom + max(p1[i],p2[i])\r\n",
        "    similarity = numer/denom\r\n",
        "    return 1 - similarity"
      ],
      "execution_count": 104,
      "outputs": []
    },
    {
      "cell_type": "code",
      "metadata": {
        "id": "iU5iaAFiUjMN"
      },
      "source": [
        "def findClosestCentroids(ic, X,distance):\r\n",
        "  assigned_centroid = []\r\n",
        "  for i in X:\r\n",
        "    d=[]\r\n",
        "    for j in ic:\r\n",
        "      d.append(distance(i, j))\r\n",
        "    assigned_centroid.append(np.argmin(d))\r\n",
        "  return assigned_centroid"
      ],
      "execution_count": 105,
      "outputs": []
    },
    {
      "cell_type": "code",
      "metadata": {
        "id": "mwqg6k_3VZEh"
      },
      "source": [
        "def calc_centroids(clusters, X):\r\n",
        "    new_centroids = []\r\n",
        "    new_df = pd.concat([pd.DataFrame(X), pd.DataFrame(clusters, columns=['cluster'])],\r\n",
        "                      axis=1)\r\n",
        "    for c in set(new_df['cluster']):\r\n",
        "        current_cluster = new_df[new_df['cluster'] == c][new_df.columns[:-1]]\r\n",
        "        cluster_mean = current_cluster.mean(axis=0)\r\n",
        "        new_centroids.append(cluster_mean)\r\n",
        "    return new_centroids, new_df"
      ],
      "execution_count": 106,
      "outputs": []
    },
    {
      "cell_type": "code",
      "metadata": {
        "id": "lMyIo1YaGKA8"
      },
      "source": [
        "def sse(centroids,new_df):\r\n",
        "  sse_kmeans = 0\r\n",
        "  for i in range(len(centroids)):\r\n",
        "    points = new_df[new_df['cluster']==i].iloc[:,:-1].values\r\n",
        "    for j in points:\r\n",
        "      sse_kmeans = sse_kmeans + euclidian(centroids[i],j)\r\n",
        "  return sse_kmeans"
      ],
      "execution_count": 107,
      "outputs": []
    },
    {
      "cell_type": "markdown",
      "metadata": {
        "id": "UGJQ0oQFhF4N"
      },
      "source": [
        "# **Task 1**"
      ]
    },
    {
      "cell_type": "code",
      "metadata": {
        "colab": {
          "base_uri": "https://localhost:8080/"
        },
        "id": "UgSl9mVg78oC",
        "outputId": "a9b45cca-bcb7-4261-ce07-a552a0887feb"
      },
      "source": [
        "arr = [['X1',3,5],['X2',3,4],['X3',2,8],['X4',2,3],\r\n",
        "       ['X5',6,2],['X6',6,4],['X7',7,3],['X8',7,4],\r\n",
        "       ['X9',8,5],['X10',7,6]]\r\n",
        "df = pd.DataFrame(arr,columns=['team','Wins in 2016','Wins in 2017'])\r\n",
        "data = np.array(df.loc[:,['Wins in 2016','Wins in 2017']])\r\n",
        "data"
      ],
      "execution_count": 108,
      "outputs": [
        {
          "output_type": "execute_result",
          "data": {
            "text/plain": [
              "array([[3, 5],\n",
              "       [3, 4],\n",
              "       [2, 8],\n",
              "       [2, 3],\n",
              "       [6, 2],\n",
              "       [6, 4],\n",
              "       [7, 3],\n",
              "       [7, 4],\n",
              "       [8, 5],\n",
              "       [7, 6]])"
            ]
          },
          "metadata": {
            "tags": []
          },
          "execution_count": 108
        }
      ]
    },
    {
      "cell_type": "markdown",
      "metadata": {
        "id": "GKHi7PbPh13c"
      },
      "source": [
        "**1. Initialize with two centroids, (4, 6) and (5, 4). Use Manhattan distance as the distance metric. First, perform one iteration of the K-means algorithm and report the coordinates of the resulting centroids.Second, please use K-Means to find two clusters.**"
      ]
    },
    {
      "cell_type": "code",
      "metadata": {
        "colab": {
          "base_uri": "https://localhost:8080/"
        },
        "id": "2GrHpVrkeUgY",
        "outputId": "dafef6a5-99ff-41f8-b782-e9b697cadd0d"
      },
      "source": [
        "centroids = np.array([[4,6],[5,4]])\r\n",
        "#Code for k-means clustering\r\n",
        "for k in range(10):\r\n",
        "  get_centroids = findClosestCentroids(centroids,data,manhattan)\r\n",
        "  centroids,new_df = calc_centroids(get_centroids, data)\r\n",
        "  if k == 0:\r\n",
        "    print('1st iteration\\n',np.array(centroids),'\\n')\r\n",
        "print('Final_centroids\\n',np.array(centroids),'\\n')\r\n",
        "print('Final data\\n',new_df)"
      ],
      "execution_count": 109,
      "outputs": [
        {
          "output_type": "stream",
          "text": [
            "1st iteration\n",
            " [[4.         6.33333333]\n",
            " [5.57142857 3.57142857]] \n",
            "\n",
            "Final_centroids\n",
            " [[4.         6.33333333]\n",
            " [5.57142857 3.57142857]] \n",
            "\n",
            "Final data\n",
            "    0  1  cluster\n",
            "0  3  5        0\n",
            "1  3  4        1\n",
            "2  2  8        0\n",
            "3  2  3        1\n",
            "4  6  2        1\n",
            "5  6  4        1\n",
            "6  7  3        1\n",
            "7  7  4        1\n",
            "8  8  5        1\n",
            "9  7  6        0\n"
          ],
          "name": "stdout"
        }
      ]
    },
    {
      "cell_type": "markdown",
      "metadata": {
        "id": "wt3blZdLkUJC"
      },
      "source": [
        "**2. Initialize with two centroids, (4, 6) and (5, 4). Use Euclidean distance as the distance metric. First, perform one iteration of the K-means algorithm and report the coordinates of the resulting centroids.Second, please use K-Means to find two clusters.**"
      ]
    },
    {
      "cell_type": "code",
      "metadata": {
        "colab": {
          "base_uri": "https://localhost:8080/"
        },
        "id": "eKGkhHoYkonN",
        "outputId": "197edd16-d693-465e-c573-ab96a09e15bd"
      },
      "source": [
        "centroids = np.array([[4,6],[5,4]])\r\n",
        "#Code for k-means clustering\r\n",
        "for k in range(10):\r\n",
        "  get_centroids = findClosestCentroids(centroids,data,euclidian)\r\n",
        "  centroids,new_df = calc_centroids(get_centroids, data)\r\n",
        "  if k == 0:\r\n",
        "    print('1st iteration\\n',np.array(centroids),'\\n')\r\n",
        "print('Final_centroids\\n',np.array(centroids),'\\n')\r\n",
        "print('Final data\\n',new_df)"
      ],
      "execution_count": 110,
      "outputs": [
        {
          "output_type": "stream",
          "text": [
            "1st iteration\n",
            " [[2.5   6.5  ]\n",
            " [5.75  3.875]] \n",
            "\n",
            "Final_centroids\n",
            " [[2.5        5.        ]\n",
            " [6.83333333 4.        ]] \n",
            "\n",
            "Final data\n",
            "    0  1  cluster\n",
            "0  3  5        0\n",
            "1  3  4        0\n",
            "2  2  8        0\n",
            "3  2  3        0\n",
            "4  6  2        1\n",
            "5  6  4        1\n",
            "6  7  3        1\n",
            "7  7  4        1\n",
            "8  8  5        1\n",
            "9  7  6        1\n"
          ],
          "name": "stdout"
        }
      ]
    },
    {
      "cell_type": "markdown",
      "metadata": {
        "id": "WV_G9f4ZoVme"
      },
      "source": [
        "**3. Initialize with two centroids, (3, 3) and (8, 3). Use Manhattan distance as the distance metric. First, perform one iteration of the K-means algorithm and report the coordinates of the resulting centroids.Second, please use K-Means to find two clusters.**"
      ]
    },
    {
      "cell_type": "code",
      "metadata": {
        "colab": {
          "base_uri": "https://localhost:8080/"
        },
        "id": "cD48rPGnoipD",
        "outputId": "1989ca61-cf2b-431a-978c-24812bdac739"
      },
      "source": [
        "centroids = [[3,3],[8,3]]\r\n",
        "#Code for k-means clustering\r\n",
        "for k in range(10):\r\n",
        "  get_centroids = findClosestCentroids(centroids,data,manhattan)\r\n",
        "  centroids,new_df = calc_centroids(get_centroids, data)\r\n",
        "  if k == 0:\r\n",
        "    print('1st iteration\\n',np.array(centroids),'\\n')\r\n",
        "print('Final_centroids\\n',np.array(centroids),'\\n')\r\n",
        "print('Final data\\n',new_df)"
      ],
      "execution_count": 111,
      "outputs": [
        {
          "output_type": "stream",
          "text": [
            "1st iteration\n",
            " [[2.5        5.        ]\n",
            " [6.83333333 4.        ]] \n",
            "\n",
            "Final_centroids\n",
            " [[2.5        5.        ]\n",
            " [6.83333333 4.        ]] \n",
            "\n",
            "Final data\n",
            "    0  1  cluster\n",
            "0  3  5        0\n",
            "1  3  4        0\n",
            "2  2  8        0\n",
            "3  2  3        0\n",
            "4  6  2        1\n",
            "5  6  4        1\n",
            "6  7  3        1\n",
            "7  7  4        1\n",
            "8  8  5        1\n",
            "9  7  6        1\n"
          ],
          "name": "stdout"
        }
      ]
    },
    {
      "cell_type": "markdown",
      "metadata": {
        "id": "U84SUar-rQKT"
      },
      "source": [
        "**4. Initialize with two centroids, (3, 2) and (4, 8). Use Manhattan distance as the distance metric. First, perform one iteration of the K-means algorithm and report the coordinates of the resulting centroids.Second, please use K-Means to find two clusters.**"
      ]
    },
    {
      "cell_type": "code",
      "metadata": {
        "colab": {
          "base_uri": "https://localhost:8080/"
        },
        "id": "SfERZv3Vrpoq",
        "outputId": "fd4f855c-e1a5-42d5-8c31-71a3fca3f8a7"
      },
      "source": [
        "centroids = [[3,2],[4,8]]\r\n",
        "#Code for k-means clustering\r\n",
        "for k in range(10):\r\n",
        "  get_centroids = findClosestCentroids(centroids,data,manhattan)\r\n",
        "  centroids,new_df = calc_centroids(get_centroids, data)\r\n",
        "  if k == 0:\r\n",
        "    print('1st iteration\\n',np.array(centroids),'\\n')\r\n",
        "print('Final_centroids\\n',np.array(centroids),'\\n')\r\n",
        "print('Final data\\n',new_df)"
      ],
      "execution_count": 112,
      "outputs": [
        {
          "output_type": "stream",
          "text": [
            "1st iteration\n",
            " [[4.85714286 3.57142857]\n",
            " [5.66666667 6.33333333]] \n",
            "\n",
            "Final_centroids\n",
            " [[4.85714286 3.57142857]\n",
            " [5.66666667 6.33333333]] \n",
            "\n",
            "Final data\n",
            "    0  1  cluster\n",
            "0  3  5        0\n",
            "1  3  4        0\n",
            "2  2  8        1\n",
            "3  2  3        0\n",
            "4  6  2        0\n",
            "5  6  4        0\n",
            "6  7  3        0\n",
            "7  7  4        0\n",
            "8  8  5        1\n",
            "9  7  6        1\n"
          ],
          "name": "stdout"
        }
      ]
    },
    {
      "cell_type": "markdown",
      "metadata": {
        "id": "ijBXlUqRxctN"
      },
      "source": [
        "# Task 2"
      ]
    },
    {
      "cell_type": "code",
      "metadata": {
        "id": "rsVT5SXh_V09"
      },
      "source": [
        "from sklearn.datasets import load_iris\r\n",
        "iris = load_iris()\r\n",
        "data = iris['data']\r\n",
        "iris_df = pd.DataFrame(data= np.c_[iris['data'], iris['target']],\r\n",
        "                     columns= iris['feature_names'] + ['target'])"
      ],
      "execution_count": 113,
      "outputs": []
    },
    {
      "cell_type": "code",
      "metadata": {
        "colab": {
          "base_uri": "https://localhost:8080/"
        },
        "id": "AxSQ5SPi8gw8",
        "outputId": "efb835c2-5b41-4708-cd1b-37ad4465e54f"
      },
      "source": [
        "iris_df.target.unique()"
      ],
      "execution_count": 114,
      "outputs": [
        {
          "output_type": "execute_result",
          "data": {
            "text/plain": [
              "array([0., 1., 2.])"
            ]
          },
          "metadata": {
            "tags": []
          },
          "execution_count": 114
        }
      ]
    },
    {
      "cell_type": "markdown",
      "metadata": {
        "id": "NOu8m4LRCRTj"
      },
      "source": [
        "As there are three target variables, three centroid points are taken randomly from iris data. "
      ]
    },
    {
      "cell_type": "code",
      "metadata": {
        "id": "dtoTJUcx8hkF"
      },
      "source": [
        "number_of_rows = data.shape[0]\r\n",
        "random_indices = np.random.choice(number_of_rows, size=3, replace=False)\r\n",
        "random_rows = data[random_indices, :]"
      ],
      "execution_count": 115,
      "outputs": []
    },
    {
      "cell_type": "code",
      "metadata": {
        "colab": {
          "base_uri": "https://localhost:8080/"
        },
        "id": "k2rQIazpCE-p",
        "outputId": "a45292d9-a1d1-4d07-a129-eafc47a1fae7"
      },
      "source": [
        "random_rows"
      ],
      "execution_count": 116,
      "outputs": [
        {
          "output_type": "execute_result",
          "data": {
            "text/plain": [
              "array([[5.1, 3.4, 1.5, 0.2],\n",
              "       [6.3, 3.3, 4.7, 1.6],\n",
              "       [6.1, 3. , 4.6, 1.4]])"
            ]
          },
          "metadata": {
            "tags": []
          },
          "execution_count": 116
        }
      ]
    },
    {
      "cell_type": "markdown",
      "metadata": {
        "id": "aI1x7qIIqEvX"
      },
      "source": [
        "### **Euclidian k-means**"
      ]
    },
    {
      "cell_type": "code",
      "metadata": {
        "colab": {
          "base_uri": "https://localhost:8080/"
        },
        "id": "4wSBE0vGCKOv",
        "outputId": "786504f1-8d91-4cd4-8454-2448f50e7bd5"
      },
      "source": [
        "centroids = random_rows\r\n",
        "#Code for k-means clustering\r\n",
        "start = time.time()\r\n",
        "sse_iter = []\r\n",
        "for k in range(15):\r\n",
        "  get_centroids = findClosestCentroids(centroids,data,euclidian)\r\n",
        "  centroids,new_df = calc_centroids(get_centroids, data)\r\n",
        "  val = sse(centroids,new_df)\r\n",
        "  sse_iter.append(val)\r\n",
        "  if(k>0):\r\n",
        "    if(sse_iter[k] >= sse_iter[k-1]):\r\n",
        "      sse_iter.pop(k)\r\n",
        "      break\r\n",
        "elapsed_time = (time.time()-start)\r\n",
        "print('Number of iterations :',k,'\\n')\r\n",
        "print('Final_centroids\\n',np.array(centroids),'\\n')\r\n",
        "#print('Final data\\n',new_df)\r\n",
        "print('SSE\\n',sse_iter,'\\n')\r\n",
        "print('Time Elapsed',elapsed_time,'\\n')"
      ],
      "execution_count": 117,
      "outputs": [
        {
          "output_type": "stream",
          "text": [
            "Number of iterations : 3 \n",
            "\n",
            "Final_centroids\n",
            " [[5.006      3.428      1.462      0.246     ]\n",
            " [6.85384615 3.07692308 5.71538462 2.05384615]\n",
            " [5.88360656 2.74098361 4.38852459 1.43442623]] \n",
            "\n",
            "SSE\n",
            " [100.35953363120642, 97.32846596899458, 97.22333289839919] \n",
            "\n",
            "Time Elapsed 0.3043999671936035 \n",
            "\n"
          ],
          "name": "stdout"
        }
      ]
    },
    {
      "cell_type": "markdown",
      "metadata": {
        "id": "Ut1xgFXtp1pP"
      },
      "source": [
        "Accuracy check \r\n",
        "\r\n"
      ]
    },
    {
      "cell_type": "code",
      "metadata": {
        "colab": {
          "base_uri": "https://localhost:8080/"
        },
        "id": "M7xzF3doqAY2",
        "outputId": "d8e45f75-0387-4b0d-b1b1-0cff318ab80c"
      },
      "source": [
        "actual = iris_df.target.value_counts()\r\n",
        "actual"
      ],
      "execution_count": 118,
      "outputs": [
        {
          "output_type": "execute_result",
          "data": {
            "text/plain": [
              "2.0    50\n",
              "1.0    50\n",
              "0.0    50\n",
              "Name: target, dtype: int64"
            ]
          },
          "metadata": {
            "tags": []
          },
          "execution_count": 118
        }
      ]
    },
    {
      "cell_type": "code",
      "metadata": {
        "colab": {
          "base_uri": "https://localhost:8080/"
        },
        "id": "8XAG24rpRR01",
        "outputId": "9fb38e77-ecab-4644-95ae-42d222a288b3"
      },
      "source": [
        "clustered = new_df.cluster.value_counts()\r\n",
        "clustered"
      ],
      "execution_count": 119,
      "outputs": [
        {
          "output_type": "execute_result",
          "data": {
            "text/plain": [
              "2    61\n",
              "0    50\n",
              "1    39\n",
              "Name: cluster, dtype: int64"
            ]
          },
          "metadata": {
            "tags": []
          },
          "execution_count": 119
        }
      ]
    },
    {
      "cell_type": "markdown",
      "metadata": {
        "id": "dv5YnnGrR27L"
      },
      "source": [
        "In actual iris dataset, there are 50 data belong to each classes. Whereas in clustered data, there are eleven misclassifications between cluster 1 and 2. \r\n"
      ]
    },
    {
      "cell_type": "code",
      "metadata": {
        "colab": {
          "base_uri": "https://localhost:8080/"
        },
        "id": "fZQF-E-WRexd",
        "outputId": "99c79fab-d8a7-4ad7-d3d1-fadbd54d636f"
      },
      "source": [
        "accuracy_euc = 139/150\r\n",
        "accuracy_euc"
      ],
      "execution_count": 120,
      "outputs": [
        {
          "output_type": "execute_result",
          "data": {
            "text/plain": [
              "0.9266666666666666"
            ]
          },
          "metadata": {
            "tags": []
          },
          "execution_count": 120
        }
      ]
    },
    {
      "cell_type": "markdown",
      "metadata": {
        "id": "XfO_q47PqDS0"
      },
      "source": [
        "### **Cosine similarity k-means**"
      ]
    },
    {
      "cell_type": "code",
      "metadata": {
        "colab": {
          "base_uri": "https://localhost:8080/"
        },
        "id": "9t6r3vUXCwD1",
        "outputId": "c700215c-793d-4e67-d20e-040939300e76"
      },
      "source": [
        "centroids = random_rows\r\n",
        "#Code for k-means clustering\r\n",
        "start = time.time()\r\n",
        "sse_iter = []\r\n",
        "for k in range(20):\r\n",
        "  get_centroids = findClosestCentroids(centroids,data,cosine_similarity)\r\n",
        "  centroids,new_df = calc_centroids(get_centroids, data)\r\n",
        "  val = sse(centroids,new_df)\r\n",
        "  sse_iter.append(val)\r\n",
        "  if(k>0):\r\n",
        "    if(sse_iter[k] >= sse_iter[k-1]):\r\n",
        "      sse_iter.pop(k)\r\n",
        "      break\r\n",
        "elapsed_time = (time.time()-start)\r\n",
        "print('Number of iterations :',k,'\\n')\r\n",
        "print('Final_centroids\\n',np.array(centroids),'\\n')\r\n",
        "#print('Final data\\n',new_df)\r\n",
        "print('SSE\\n',sse_iter,'\\n')\r\n",
        "print('Time Elapsed',elapsed_time)"
      ],
      "execution_count": 121,
      "outputs": [
        {
          "output_type": "stream",
          "text": [
            "Number of iterations : 6 \n",
            "\n",
            "Final_centroids\n",
            " [[5.006      3.428      1.462      0.246     ]\n",
            " [6.53703704 2.96481481 5.49814815 1.99444444]\n",
            " [5.93913043 2.76304348 4.21086957 1.30217391]] \n",
            "\n",
            "SSE\n",
            " [125.61590954569276, 123.51155121888573, 116.96934558418697, 108.24011324214743, 102.75795304885419, 101.45143888001493] \n",
            "\n",
            "Time Elapsed 0.29172253608703613\n"
          ],
          "name": "stdout"
        }
      ]
    },
    {
      "cell_type": "markdown",
      "metadata": {
        "id": "_g_wLUwRqkY7"
      },
      "source": [
        "Accuracy check"
      ]
    },
    {
      "cell_type": "code",
      "metadata": {
        "colab": {
          "base_uri": "https://localhost:8080/"
        },
        "id": "5xRYVOMaqnG4",
        "outputId": "f802b9c9-6e4b-4e95-e0f4-4b5ff5f6b48a"
      },
      "source": [
        "actual = iris_df.target.value_counts()\r\n",
        "actual"
      ],
      "execution_count": 122,
      "outputs": [
        {
          "output_type": "execute_result",
          "data": {
            "text/plain": [
              "2.0    50\n",
              "1.0    50\n",
              "0.0    50\n",
              "Name: target, dtype: int64"
            ]
          },
          "metadata": {
            "tags": []
          },
          "execution_count": 122
        }
      ]
    },
    {
      "cell_type": "code",
      "metadata": {
        "colab": {
          "base_uri": "https://localhost:8080/"
        },
        "id": "i88yzeFpZxFU",
        "outputId": "605efeee-f4ac-4a53-a38d-bf127116fd4b"
      },
      "source": [
        "clustered = new_df.cluster.value_counts()\r\n",
        "clustered"
      ],
      "execution_count": 123,
      "outputs": [
        {
          "output_type": "execute_result",
          "data": {
            "text/plain": [
              "1    54\n",
              "0    50\n",
              "2    46\n",
              "Name: cluster, dtype: int64"
            ]
          },
          "metadata": {
            "tags": []
          },
          "execution_count": 123
        }
      ]
    },
    {
      "cell_type": "markdown",
      "metadata": {
        "id": "bh20480tZ1St"
      },
      "source": [
        "In actual iris dataset, there are 50 data belong to each classes. Whereas in clustered data, there are four misclassifications between cluster 1 and 0."
      ]
    },
    {
      "cell_type": "code",
      "metadata": {
        "colab": {
          "base_uri": "https://localhost:8080/"
        },
        "id": "goNTrvKwZ0TY",
        "outputId": "374eb88e-a0f6-4d88-c8c6-3c23b49a7eba"
      },
      "source": [
        "accuracy_cos = 146/150\r\n",
        "accuracy_cos"
      ],
      "execution_count": 124,
      "outputs": [
        {
          "output_type": "execute_result",
          "data": {
            "text/plain": [
              "0.9733333333333334"
            ]
          },
          "metadata": {
            "tags": []
          },
          "execution_count": 124
        }
      ]
    },
    {
      "cell_type": "markdown",
      "metadata": {
        "id": "J3QiD38QqONU"
      },
      "source": [
        "### **Jaccard similarity k-means**"
      ]
    },
    {
      "cell_type": "code",
      "metadata": {
        "colab": {
          "base_uri": "https://localhost:8080/"
        },
        "id": "-fwpfXxgEJiR",
        "outputId": "4b1a8f85-bc96-489b-885e-218cb9fe82ae"
      },
      "source": [
        "centroids = random_rows\r\n",
        "#Code for k-means clustering\r\n",
        "start = time.time()\r\n",
        "sse_iter = []\r\n",
        "for k in range(30):\r\n",
        "  get_centroids = findClosestCentroids(centroids,data,jaccard_similarity)\r\n",
        "  centroids,new_df = calc_centroids(get_centroids, data)\r\n",
        "  val = sse(centroids,new_df)\r\n",
        "  sse_iter.append(val)\r\n",
        "  if(k>0):\r\n",
        "    if(sse_iter[k] >= sse_iter[k-1]):\r\n",
        "      sse_iter.pop(k)\r\n",
        "      break\r\n",
        "elapsed_time = (time.time()-start)\r\n",
        "print('Number of iterations :',k,'\\n')\r\n",
        "print('Final_centroids\\n',np.array(centroids),'\\n')\r\n",
        "#print('Final data\\n',new_df)\r\n",
        "print('SSE\\n',sse_iter,'\\n')\r\n",
        "print('Time Elapsed',elapsed_time)"
      ],
      "execution_count": 125,
      "outputs": [
        {
          "output_type": "stream",
          "text": [
            "Number of iterations : 2 \n",
            "\n",
            "Final_centroids\n",
            " [[5.006      3.428      1.462      0.246     ]\n",
            " [6.79767442 3.06046512 5.64186047 2.0255814 ]\n",
            " [5.85789474 2.72982456 4.35087719 1.4122807 ]] \n",
            "\n",
            "SSE\n",
            " [100.01617458065468, 97.54550330347408] \n",
            "\n",
            "Time Elapsed 0.10924816131591797\n"
          ],
          "name": "stdout"
        }
      ]
    },
    {
      "cell_type": "markdown",
      "metadata": {
        "id": "M7IsehWvprjy"
      },
      "source": [
        "Accuracy check"
      ]
    },
    {
      "cell_type": "code",
      "metadata": {
        "colab": {
          "base_uri": "https://localhost:8080/"
        },
        "id": "xBzwNdccptfm",
        "outputId": "23a8b92c-7e54-47c1-bc07-17b247d62b9a"
      },
      "source": [
        "actual = iris_df.target.value_counts()\r\n",
        "actual"
      ],
      "execution_count": 126,
      "outputs": [
        {
          "output_type": "execute_result",
          "data": {
            "text/plain": [
              "2.0    50\n",
              "1.0    50\n",
              "0.0    50\n",
              "Name: target, dtype: int64"
            ]
          },
          "metadata": {
            "tags": []
          },
          "execution_count": 126
        }
      ]
    },
    {
      "cell_type": "code",
      "metadata": {
        "colab": {
          "base_uri": "https://localhost:8080/"
        },
        "id": "2UwpVwxbaUVq",
        "outputId": "159f2538-dc25-4758-fdd9-221c037c62ff"
      },
      "source": [
        "clustered = new_df.cluster.value_counts()\r\n",
        "clustered"
      ],
      "execution_count": 127,
      "outputs": [
        {
          "output_type": "execute_result",
          "data": {
            "text/plain": [
              "2    57\n",
              "0    50\n",
              "1    43\n",
              "Name: cluster, dtype: int64"
            ]
          },
          "metadata": {
            "tags": []
          },
          "execution_count": 127
        }
      ]
    },
    {
      "cell_type": "markdown",
      "metadata": {
        "id": "b91lgztAac-j"
      },
      "source": [
        "In actual iris dataset, there are 50 data belong to each classes. Whereas in clustered data, there are seven misclassifications between cluster 1 and 2."
      ]
    },
    {
      "cell_type": "code",
      "metadata": {
        "colab": {
          "base_uri": "https://localhost:8080/"
        },
        "id": "e8hsCskZaVjc",
        "outputId": "1fb091ab-c734-4d40-9afc-4b6acd68810c"
      },
      "source": [
        "accuracy_jac = 143/150\r\n",
        "accuracy_jac"
      ],
      "execution_count": 129,
      "outputs": [
        {
          "output_type": "execute_result",
          "data": {
            "text/plain": [
              "0.9533333333333334"
            ]
          },
          "metadata": {
            "tags": []
          },
          "execution_count": 129
        }
      ]
    },
    {
      "cell_type": "markdown",
      "metadata": {
        "id": "tTccMOXAoclD"
      },
      "source": [
        "### **Plotting SSE for 100 iterations**"
      ]
    },
    {
      "cell_type": "markdown",
      "metadata": {
        "id": "a0oCLxXdogzd"
      },
      "source": [
        "Euclidian k-means"
      ]
    },
    {
      "cell_type": "code",
      "metadata": {
        "colab": {
          "base_uri": "https://localhost:8080/"
        },
        "id": "6f51WN2AncN5",
        "outputId": "50c07035-ad39-4d60-f4f7-d402e95c4827"
      },
      "source": [
        "centroids = random_rows\r\n",
        "#Code for k-means clustering\r\n",
        "sse_euc = []\r\n",
        "for k in range(100):\r\n",
        "  get_centroids = findClosestCentroids(centroids,data,euclidian)\r\n",
        "  centroids,new_df = calc_centroids(get_centroids, data)\r\n",
        "  val = sse(centroids,new_df)\r\n",
        "  sse_euc.append(val)\r\n",
        "print('SSE Euclidian\\n',sse_euc,'\\n')"
      ],
      "execution_count": 130,
      "outputs": [
        {
          "output_type": "stream",
          "text": [
            "SSE Euclidian\n",
            " [100.35953363120642, 97.32846596899458, 97.22333289839919, 97.22486903387322, 97.22486903387322, 97.22486903387322, 97.22486903387322, 97.22486903387322, 97.22486903387322, 97.22486903387322, 97.22486903387322, 97.22486903387322, 97.22486903387322, 97.22486903387322, 97.22486903387322, 97.22486903387322, 97.22486903387322, 97.22486903387322, 97.22486903387322, 97.22486903387322, 97.22486903387322, 97.22486903387322, 97.22486903387322, 97.22486903387322, 97.22486903387322, 97.22486903387322, 97.22486903387322, 97.22486903387322, 97.22486903387322, 97.22486903387322, 97.22486903387322, 97.22486903387322, 97.22486903387322, 97.22486903387322, 97.22486903387322, 97.22486903387322, 97.22486903387322, 97.22486903387322, 97.22486903387322, 97.22486903387322, 97.22486903387322, 97.22486903387322, 97.22486903387322, 97.22486903387322, 97.22486903387322, 97.22486903387322, 97.22486903387322, 97.22486903387322, 97.22486903387322, 97.22486903387322, 97.22486903387322, 97.22486903387322, 97.22486903387322, 97.22486903387322, 97.22486903387322, 97.22486903387322, 97.22486903387322, 97.22486903387322, 97.22486903387322, 97.22486903387322, 97.22486903387322, 97.22486903387322, 97.22486903387322, 97.22486903387322, 97.22486903387322, 97.22486903387322, 97.22486903387322, 97.22486903387322, 97.22486903387322, 97.22486903387322, 97.22486903387322, 97.22486903387322, 97.22486903387322, 97.22486903387322, 97.22486903387322, 97.22486903387322, 97.22486903387322, 97.22486903387322, 97.22486903387322, 97.22486903387322, 97.22486903387322, 97.22486903387322, 97.22486903387322, 97.22486903387322, 97.22486903387322, 97.22486903387322, 97.22486903387322, 97.22486903387322, 97.22486903387322, 97.22486903387322, 97.22486903387322, 97.22486903387322, 97.22486903387322, 97.22486903387322, 97.22486903387322, 97.22486903387322, 97.22486903387322, 97.22486903387322, 97.22486903387322, 97.22486903387322] \n",
            "\n"
          ],
          "name": "stdout"
        }
      ]
    },
    {
      "cell_type": "code",
      "metadata": {
        "colab": {
          "base_uri": "https://localhost:8080/"
        },
        "id": "hyMNetJUuCEm",
        "outputId": "b5c9d592-f78b-445d-f619-df2d92425a24"
      },
      "source": [
        "len(sse_euc)"
      ],
      "execution_count": 131,
      "outputs": [
        {
          "output_type": "execute_result",
          "data": {
            "text/plain": [
              "100"
            ]
          },
          "metadata": {
            "tags": []
          },
          "execution_count": 131
        }
      ]
    },
    {
      "cell_type": "markdown",
      "metadata": {
        "id": "50bHqxLSuMo4"
      },
      "source": [
        "Cosine Similarity k-means"
      ]
    },
    {
      "cell_type": "code",
      "metadata": {
        "colab": {
          "base_uri": "https://localhost:8080/"
        },
        "id": "pGGcOs7bqKrO",
        "outputId": "d398641e-5b89-431a-d8e0-6558560ea876"
      },
      "source": [
        "centroids = random_rows\r\n",
        "#Code for k-means clustering\r\n",
        "sse_cos = []\r\n",
        "for k in range(100):\r\n",
        "  get_centroids = findClosestCentroids(centroids,data,cosine_similarity)\r\n",
        "  centroids,new_df = calc_centroids(get_centroids, data)\r\n",
        "  val = sse(centroids,new_df)\r\n",
        "  sse_cos.append(val)\r\n",
        "print('SSE cosine similarity\\n',sse_cos,'\\n')"
      ],
      "execution_count": 132,
      "outputs": [
        {
          "output_type": "stream",
          "text": [
            "SSE cosine similarity\n",
            " [125.61590954569276, 123.51155121888573, 116.96934558418697, 108.24011324214743, 102.75795304885419, 101.45143888001493, 101.45143888001493, 101.45143888001493, 101.45143888001493, 101.45143888001493, 101.45143888001493, 101.45143888001493, 101.45143888001493, 101.45143888001493, 101.45143888001493, 101.45143888001493, 101.45143888001493, 101.45143888001493, 101.45143888001493, 101.45143888001493, 101.45143888001493, 101.45143888001493, 101.45143888001493, 101.45143888001493, 101.45143888001493, 101.45143888001493, 101.45143888001493, 101.45143888001493, 101.45143888001493, 101.45143888001493, 101.45143888001493, 101.45143888001493, 101.45143888001493, 101.45143888001493, 101.45143888001493, 101.45143888001493, 101.45143888001493, 101.45143888001493, 101.45143888001493, 101.45143888001493, 101.45143888001493, 101.45143888001493, 101.45143888001493, 101.45143888001493, 101.45143888001493, 101.45143888001493, 101.45143888001493, 101.45143888001493, 101.45143888001493, 101.45143888001493, 101.45143888001493, 101.45143888001493, 101.45143888001493, 101.45143888001493, 101.45143888001493, 101.45143888001493, 101.45143888001493, 101.45143888001493, 101.45143888001493, 101.45143888001493, 101.45143888001493, 101.45143888001493, 101.45143888001493, 101.45143888001493, 101.45143888001493, 101.45143888001493, 101.45143888001493, 101.45143888001493, 101.45143888001493, 101.45143888001493, 101.45143888001493, 101.45143888001493, 101.45143888001493, 101.45143888001493, 101.45143888001493, 101.45143888001493, 101.45143888001493, 101.45143888001493, 101.45143888001493, 101.45143888001493, 101.45143888001493, 101.45143888001493, 101.45143888001493, 101.45143888001493, 101.45143888001493, 101.45143888001493, 101.45143888001493, 101.45143888001493, 101.45143888001493, 101.45143888001493, 101.45143888001493, 101.45143888001493, 101.45143888001493, 101.45143888001493, 101.45143888001493, 101.45143888001493, 101.45143888001493, 101.45143888001493, 101.45143888001493, 101.45143888001493] \n",
            "\n"
          ],
          "name": "stdout"
        }
      ]
    },
    {
      "cell_type": "markdown",
      "metadata": {
        "id": "kHWjh7kLqqrj"
      },
      "source": [
        "Jaccard similarity k-means"
      ]
    },
    {
      "cell_type": "code",
      "metadata": {
        "colab": {
          "base_uri": "https://localhost:8080/"
        },
        "id": "0BhTVbCMqysp",
        "outputId": "9f22c439-44c2-4988-c658-bfecfb576007"
      },
      "source": [
        "centroids = random_rows\r\n",
        "#Code for k-means clustering\r\n",
        "sse_jac = []\r\n",
        "for k in range(100):\r\n",
        "  get_centroids = findClosestCentroids(centroids,data,jaccard_similarity)\r\n",
        "  centroids,new_df = calc_centroids(get_centroids, data)\r\n",
        "  val = sse(centroids,new_df)\r\n",
        "  sse_jac.append(val)\r\n",
        "print('SSE jaccard similarity\\n',sse_jac,'\\n')"
      ],
      "execution_count": 133,
      "outputs": [
        {
          "output_type": "stream",
          "text": [
            "SSE jaccard similarity\n",
            " [100.01617458065468, 97.54550330347408, 97.75919890830676, 97.60959552594773, 97.5657341658333, 97.365976856074, 97.365976856074, 97.365976856074, 97.365976856074, 97.365976856074, 97.365976856074, 97.365976856074, 97.365976856074, 97.365976856074, 97.365976856074, 97.365976856074, 97.365976856074, 97.365976856074, 97.365976856074, 97.365976856074, 97.365976856074, 97.365976856074, 97.365976856074, 97.365976856074, 97.365976856074, 97.365976856074, 97.365976856074, 97.365976856074, 97.365976856074, 97.365976856074, 97.365976856074, 97.365976856074, 97.365976856074, 97.365976856074, 97.365976856074, 97.365976856074, 97.365976856074, 97.365976856074, 97.365976856074, 97.365976856074, 97.365976856074, 97.365976856074, 97.365976856074, 97.365976856074, 97.365976856074, 97.365976856074, 97.365976856074, 97.365976856074, 97.365976856074, 97.365976856074, 97.365976856074, 97.365976856074, 97.365976856074, 97.365976856074, 97.365976856074, 97.365976856074, 97.365976856074, 97.365976856074, 97.365976856074, 97.365976856074, 97.365976856074, 97.365976856074, 97.365976856074, 97.365976856074, 97.365976856074, 97.365976856074, 97.365976856074, 97.365976856074, 97.365976856074, 97.365976856074, 97.365976856074, 97.365976856074, 97.365976856074, 97.365976856074, 97.365976856074, 97.365976856074, 97.365976856074, 97.365976856074, 97.365976856074, 97.365976856074, 97.365976856074, 97.365976856074, 97.365976856074, 97.365976856074, 97.365976856074, 97.365976856074, 97.365976856074, 97.365976856074, 97.365976856074, 97.365976856074, 97.365976856074, 97.365976856074, 97.365976856074, 97.365976856074, 97.365976856074, 97.365976856074, 97.365976856074, 97.365976856074, 97.365976856074, 97.365976856074] \n",
            "\n"
          ],
          "name": "stdout"
        }
      ]
    },
    {
      "cell_type": "code",
      "metadata": {
        "colab": {
          "base_uri": "https://localhost:8080/",
          "height": 295
        },
        "id": "mkvrPIOXrhbA",
        "outputId": "b41424d0-ca57-4817-faac-047ddb6e4457"
      },
      "source": [
        "iter = list(np.arange(1,101))\r\n",
        "# plotting SSE of euclidian k-means \r\n",
        "plt.plot(iter, sse_euc, label = \"Euclidian\")\r\n",
        "# plotting SSE of cosine similarity k-means \r\n",
        "plt.plot(iter, sse_cos, label = \"Cosine similarity\")\r\n",
        "# plotting SSE of jaccard similarity k-means \r\n",
        "plt.plot(iter, sse_jac, label = \"Jaccard similarity\")\r\n",
        "plt.xlabel('iterations')\r\n",
        "# Set the y axis label of the current axis.\r\n",
        "plt.ylabel('SSE')\r\n",
        "# Set a title of the current axes.\r\n",
        "plt.title('Convergence of SSE')\r\n",
        "# show a legend on the plot\r\n",
        "plt.legend()\r\n",
        "# Display a figure.\r\n",
        "plt.show()"
      ],
      "execution_count": 146,
      "outputs": [
        {
          "output_type": "display_data",
          "data": {
            "image/png": "[encoded data removed]",
            "text/plain": [
              "<Figure size 432x288 with 1 Axes>"
            ]
          },
          "metadata": {
            "tags": [],
            "needs_background": "light"
          }
        }
      ]
    },
    {
      "cell_type": "markdown",
      "metadata": {
        "id": "vi9MJGa3cz5a"
      },
      "source": [
        "## Task 3"
      ]
    },
    {
      "cell_type": "code",
      "metadata": {
        "id": "KuBQKoUkTWrR"
      },
      "source": [
        "red_cluster = np.array([[4.7,3.2],[4.9,3.1],[5.0,3.0],[4.6,2.9]])\r\n",
        "blue_cluster = np.array([[5.9,3.2],[6.7,3.1],[6.0,3.0],[6.2,2.8]])"
      ],
      "execution_count": 52,
      "outputs": []
    },
    {
      "cell_type": "code",
      "metadata": {
        "colab": {
          "base_uri": "https://localhost:8080/",
          "height": 173
        },
        "id": "BKe_sKG5elin",
        "outputId": "f9bad6d6-85c4-43b9-fba5-c2d1ed0ce81e"
      },
      "source": [
        "red = pd.DataFrame(red_cluster, columns = ['r1','r2'])\r\n",
        "blue = pd.DataFrame(blue_cluster, columns = ['b1','b2'])\r\n",
        "df_t3 = pd.concat([red,blue],axis=1)\r\n",
        "df_t3"
      ],
      "execution_count": 53,
      "outputs": [
        {
          "output_type": "execute_result",
          "data": {
            "text/html": [
              "<div>\n",
              "<style scoped>\n",
              "    .dataframe tbody tr th:only-of-type {\n",
              "        vertical-align: middle;\n",
              "    }\n",
              "\n",
              "    .dataframe tbody tr th {\n",
              "        vertical-align: top;\n",
              "    }\n",
              "\n",
              "    .dataframe thead th {\n",
              "        text-align: right;\n",
              "    }\n",
              "</style>\n",
              "<table border=\"1\" class=\"dataframe\">\n",
              "  <thead>\n",
              "    <tr style=\"text-align: right;\">\n",
              "      <th></th>\n",
              "      <th>r1</th>\n",
              "      <th>r2</th>\n",
              "      <th>b1</th>\n",
              "      <th>b2</th>\n",
              "    </tr>\n",
              "  </thead>\n",
              "  <tbody>\n",
              "    <tr>\n",
              "      <th>0</th>\n",
              "      <td>4.7</td>\n",
              "      <td>3.2</td>\n",
              "      <td>5.9</td>\n",
              "      <td>3.2</td>\n",
              "    </tr>\n",
              "    <tr>\n",
              "      <th>1</th>\n",
              "      <td>4.9</td>\n",
              "      <td>3.1</td>\n",
              "      <td>6.7</td>\n",
              "      <td>3.1</td>\n",
              "    </tr>\n",
              "    <tr>\n",
              "      <th>2</th>\n",
              "      <td>5.0</td>\n",
              "      <td>3.0</td>\n",
              "      <td>6.0</td>\n",
              "      <td>3.0</td>\n",
              "    </tr>\n",
              "    <tr>\n",
              "      <th>3</th>\n",
              "      <td>4.6</td>\n",
              "      <td>2.9</td>\n",
              "      <td>6.2</td>\n",
              "      <td>2.8</td>\n",
              "    </tr>\n",
              "  </tbody>\n",
              "</table>\n",
              "</div>"
            ],
            "text/plain": [
              "    r1   r2   b1   b2\n",
              "0  4.7  3.2  5.9  3.2\n",
              "1  4.9  3.1  6.7  3.1\n",
              "2  5.0  3.0  6.0  3.0\n",
              "3  4.6  2.9  6.2  2.8"
            ]
          },
          "metadata": {
            "tags": []
          },
          "execution_count": 53
        }
      ]
    },
    {
      "cell_type": "code",
      "metadata": {
        "colab": {
          "base_uri": "https://localhost:8080/"
        },
        "id": "w-TlICAVenMx",
        "outputId": "961685c4-1ac7-41e9-e55d-ecf1c44df10e"
      },
      "source": [
        "dist = []\r\n",
        "for i in red_cluster:\r\n",
        "  for j in blue_cluster:\r\n",
        "    dist.append(round(euclidian(i,j),4))\r\n",
        "print(dist)\r\n",
        "print('index',':',np.argmax(dist),',','value',':',max(dist))\r\n",
        "print('index',':',np.argmin(dist),',','value',':',min(dist))\r\n",
        "print(round(np.mean(dist),4))"
      ],
      "execution_count": 48,
      "outputs": [
        {
          "output_type": "stream",
          "text": [
            "[1.2, 2.0025, 1.3153, 1.5524, 1.005, 1.8, 1.1045, 1.3342, 0.922, 1.7029, 1.0, 1.2166, 1.3342, 2.1095, 1.4036, 1.6031]\n",
            "index : 13 , value : 2.1095\n",
            "index : 8 , value : 0.922\n",
            "1.4129\n"
          ],
          "name": "stdout"
        }
      ]
    },
    {
      "cell_type": "markdown",
      "metadata": {
        "id": "FCRA8NJphvBC"
      },
      "source": [
        "A. The distance between farthest points (4.6,2.9) and (6.7,3.1) is 2.1095"
      ]
    },
    {
      "cell_type": "markdown",
      "metadata": {
        "id": "eQjrdw1ligrb"
      },
      "source": [
        "B. The distance between closest points (5.0,3.0) and (5.9,3.2) is 0.922"
      ]
    },
    {
      "cell_type": "markdown",
      "metadata": {
        "id": "gvBEgRPxi-u2"
      },
      "source": [
        "C. The average distance between all pairs is 1.4129"
      ]
    },
    {
      "cell_type": "markdown",
      "metadata": {
        "id": "nlwTvqA4jVVE"
      },
      "source": [
        "D. If data has noise in the form of outliers, then distance 'A' is more robust to noise."
      ]
    }
  ]
}
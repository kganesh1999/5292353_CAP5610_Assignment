{
  "nbformat": 4,
  "nbformat_minor": 0,
  "metadata": {
    "colab": {
      "name": "hw5.ipynb",
      "provenance": [],
      "collapsed_sections": [],
      "authorship_tag": "ABX9TyNh3mFsBVEYuVC86CP/dfeB",
      "include_colab_link": true
    },
    "kernelspec": {
      "name": "python3",
      "display_name": "Python 3"
    },
    "language_info": {
      "name": "python"
    }
  },
  "cells": [
    {
      "cell_type": "markdown",
      "metadata": {
        "id": "view-in-github",
        "colab_type": "text"
      },
      "source": [
        "<a href=\"https://colab.research.google.com/github/kganesh1999/5292353_CAP5610_Assignment/blob/main/hw5.ipynb\" target=\"_parent\"><img src=\"https://colab.research.google.com/assets/colab-badge.svg\" alt=\"Open In Colab\"/></a>"
      ]
    },
    {
      "cell_type": "code",
      "metadata": {
        "id": "VthFZhWPnosN"
      },
      "source": [
        "import numpy as np \n",
        "import pandas as pd \n",
        "import matplotlib.pyplot as plt\n",
        "from surprise import KNNBasic, SVD, Reader, accuracy, Dataset\n",
        "from surprise.model_selection import cross_validate, train_test_split\n",
        "%matplotlib inline"
      ],
      "execution_count": 4,
      "outputs": []
    },
    {
      "cell_type": "markdown",
      "metadata": {
        "id": "dFJGh5oKiliL"
      },
      "source": [
        "## Read Dataset"
      ]
    },
    {
      "cell_type": "code",
      "metadata": {
        "colab": {
          "base_uri": "https://localhost:8080/",
          "height": 419
        },
        "id": "QQ6OfNY0oxFn",
        "outputId": "7bcbd502-7ebf-4c9f-f9d3-646b3b2d79ea"
      },
      "source": [
        "ratings = pd.read_csv('ratings_small.csv')\n",
        "ratings"
      ],
      "execution_count": 5,
      "outputs": [
        {
          "output_type": "execute_result",
          "data": {
            "text/html": [
              "<div>\n",
              "<style scoped>\n",
              "    .dataframe tbody tr th:only-of-type {\n",
              "        vertical-align: middle;\n",
              "    }\n",
              "\n",
              "    .dataframe tbody tr th {\n",
              "        vertical-align: top;\n",
              "    }\n",
              "\n",
              "    .dataframe thead th {\n",
              "        text-align: right;\n",
              "    }\n",
              "</style>\n",
              "<table border=\"1\" class=\"dataframe\">\n",
              "  <thead>\n",
              "    <tr style=\"text-align: right;\">\n",
              "      <th></th>\n",
              "      <th>userId</th>\n",
              "      <th>movieId</th>\n",
              "      <th>rating</th>\n",
              "      <th>timestamp</th>\n",
              "    </tr>\n",
              "  </thead>\n",
              "  <tbody>\n",
              "    <tr>\n",
              "      <th>0</th>\n",
              "      <td>1</td>\n",
              "      <td>31</td>\n",
              "      <td>2.5</td>\n",
              "      <td>1260759144</td>\n",
              "    </tr>\n",
              "    <tr>\n",
              "      <th>1</th>\n",
              "      <td>1</td>\n",
              "      <td>1029</td>\n",
              "      <td>3.0</td>\n",
              "      <td>1260759179</td>\n",
              "    </tr>\n",
              "    <tr>\n",
              "      <th>2</th>\n",
              "      <td>1</td>\n",
              "      <td>1061</td>\n",
              "      <td>3.0</td>\n",
              "      <td>1260759182</td>\n",
              "    </tr>\n",
              "    <tr>\n",
              "      <th>3</th>\n",
              "      <td>1</td>\n",
              "      <td>1129</td>\n",
              "      <td>2.0</td>\n",
              "      <td>1260759185</td>\n",
              "    </tr>\n",
              "    <tr>\n",
              "      <th>4</th>\n",
              "      <td>1</td>\n",
              "      <td>1172</td>\n",
              "      <td>4.0</td>\n",
              "      <td>1260759205</td>\n",
              "    </tr>\n",
              "    <tr>\n",
              "      <th>...</th>\n",
              "      <td>...</td>\n",
              "      <td>...</td>\n",
              "      <td>...</td>\n",
              "      <td>...</td>\n",
              "    </tr>\n",
              "    <tr>\n",
              "      <th>99999</th>\n",
              "      <td>671</td>\n",
              "      <td>6268</td>\n",
              "      <td>2.5</td>\n",
              "      <td>1065579370</td>\n",
              "    </tr>\n",
              "    <tr>\n",
              "      <th>100000</th>\n",
              "      <td>671</td>\n",
              "      <td>6269</td>\n",
              "      <td>4.0</td>\n",
              "      <td>1065149201</td>\n",
              "    </tr>\n",
              "    <tr>\n",
              "      <th>100001</th>\n",
              "      <td>671</td>\n",
              "      <td>6365</td>\n",
              "      <td>4.0</td>\n",
              "      <td>1070940363</td>\n",
              "    </tr>\n",
              "    <tr>\n",
              "      <th>100002</th>\n",
              "      <td>671</td>\n",
              "      <td>6385</td>\n",
              "      <td>2.5</td>\n",
              "      <td>1070979663</td>\n",
              "    </tr>\n",
              "    <tr>\n",
              "      <th>100003</th>\n",
              "      <td>671</td>\n",
              "      <td>6565</td>\n",
              "      <td>3.5</td>\n",
              "      <td>1074784724</td>\n",
              "    </tr>\n",
              "  </tbody>\n",
              "</table>\n",
              "<p>100004 rows × 4 columns</p>\n",
              "</div>"
            ],
            "text/plain": [
              "        userId  movieId  rating   timestamp\n",
              "0            1       31     2.5  1260759144\n",
              "1            1     1029     3.0  1260759179\n",
              "2            1     1061     3.0  1260759182\n",
              "3            1     1129     2.0  1260759185\n",
              "4            1     1172     4.0  1260759205\n",
              "...        ...      ...     ...         ...\n",
              "99999      671     6268     2.5  1065579370\n",
              "100000     671     6269     4.0  1065149201\n",
              "100001     671     6365     4.0  1070940363\n",
              "100002     671     6385     2.5  1070979663\n",
              "100003     671     6565     3.5  1074784724\n",
              "\n",
              "[100004 rows x 4 columns]"
            ]
          },
          "metadata": {
            "tags": []
          },
          "execution_count": 5
        }
      ]
    },
    {
      "cell_type": "code",
      "metadata": {
        "id": "XhMfl3SVo4Wf"
      },
      "source": [
        "reader = Reader()\n",
        "data = Dataset.load_from_df(ratings[['userId', 'movieId', 'rating']], reader)"
      ],
      "execution_count": 6,
      "outputs": []
    },
    {
      "cell_type": "markdown",
      "metadata": {
        "id": "TPI1oxWti1Dd"
      },
      "source": [
        "## Performance Evaluation of various model\n"
      ]
    },
    {
      "cell_type": "markdown",
      "metadata": {
        "id": "TjvA3-1zW5R0"
      },
      "source": [
        "### Probability Mass Function"
      ]
    },
    {
      "cell_type": "code",
      "metadata": {
        "colab": {
          "base_uri": "https://localhost:8080/"
        },
        "id": "AcXqDMab5GwD",
        "outputId": "0500972a-bb85-4eff-91d1-7d7a9f5f0175"
      },
      "source": [
        "pmf_svd = SVD(biased = False)\n",
        "cv_pmf = cross_validate(pmf_svd, data, measures=['RMSE', 'MAE'], cv=5, verbose=True);"
      ],
      "execution_count": 7,
      "outputs": [
        {
          "output_type": "stream",
          "text": [
            "Evaluating RMSE, MAE of algorithm SVD on 5 split(s).\n",
            "\n",
            "                  Fold 1  Fold 2  Fold 3  Fold 4  Fold 5  Mean    Std     \n",
            "RMSE (testset)    1.0087  1.0045  1.0100  1.0105  1.0113  1.0090  0.0024  \n",
            "MAE (testset)     0.7802  0.7748  0.7803  0.7793  0.7774  0.7784  0.0021  \n",
            "Fit time          4.98    5.03    5.02    5.10    5.03    5.03    0.04    \n",
            "Test time         0.25    0.16    0.15    0.16    0.27    0.20    0.05    \n"
          ],
          "name": "stdout"
        }
      ]
    },
    {
      "cell_type": "code",
      "metadata": {
        "colab": {
          "base_uri": "https://localhost:8080/"
        },
        "id": "rLjthjrTK8L_",
        "outputId": "a8b79d0c-4884-42d1-e5a6-e8e059b28a82"
      },
      "source": [
        "cv_pmf"
      ],
      "execution_count": 8,
      "outputs": [
        {
          "output_type": "execute_result",
          "data": {
            "text/plain": [
              "{'fit_time': (4.98458456993103,\n",
              "  5.025357007980347,\n",
              "  5.021892309188843,\n",
              "  5.098491191864014,\n",
              "  5.029857158660889),\n",
              " 'test_mae': array([0.78021635, 0.77481003, 0.7803001 , 0.77928065, 0.77735577]),\n",
              " 'test_rmse': array([1.00872984, 1.00445096, 1.0100094 , 1.01051898, 1.01133026]),\n",
              " 'test_time': (0.24716854095458984,\n",
              "  0.1560378074645996,\n",
              "  0.14882230758666992,\n",
              "  0.15981841087341309,\n",
              "  0.2701394557952881)}"
            ]
          },
          "metadata": {
            "tags": []
          },
          "execution_count": 8
        }
      ]
    },
    {
      "cell_type": "code",
      "metadata": {
        "colab": {
          "base_uri": "https://localhost:8080/"
        },
        "id": "H5KTxPslLKG-",
        "outputId": "77714372-8930-4944-d476-5f6dbceb6526"
      },
      "source": [
        "print('Average MAE for PMF Collaborative Filtering: ', cv_pmf['test_mae'].mean())\n",
        "print('Average RMSE for PMF Collaborative Filtering: ', cv_pmf['test_rmse'].mean())"
      ],
      "execution_count": 9,
      "outputs": [
        {
          "output_type": "stream",
          "text": [
            "Average MAE for PMF Collaborative Filtering:  0.7783925794679601\n",
            "Average RMSE for PMF Collaborative Filtering:  1.0090078878291948\n"
          ],
          "name": "stdout"
        }
      ]
    },
    {
      "cell_type": "markdown",
      "metadata": {
        "id": "l4HJ40Y7jOV2"
      },
      "source": [
        "### User-based CF"
      ]
    },
    {
      "cell_type": "code",
      "metadata": {
        "colab": {
          "base_uri": "https://localhost:8080/"
        },
        "id": "uyVKlBTVbSmW",
        "outputId": "17165a52-d2f2-4d09-b109-4a55524c61df"
      },
      "source": [
        "sim_options = {'user_based': True}\n",
        "user_based_cf = KNNBasic(sim_options=sim_options)\n",
        "cv_ub = cross_validate(user_based_cf, data, measures=['RMSE', 'MAE'], cv=5, verbose=True);"
      ],
      "execution_count": 22,
      "outputs": [
        {
          "output_type": "stream",
          "text": [
            "Computing the msd similarity matrix...\n",
            "Done computing similarity matrix.\n",
            "Computing the msd similarity matrix...\n",
            "Done computing similarity matrix.\n",
            "Computing the msd similarity matrix...\n",
            "Done computing similarity matrix.\n",
            "Computing the msd similarity matrix...\n",
            "Done computing similarity matrix.\n",
            "Computing the msd similarity matrix...\n",
            "Done computing similarity matrix.\n",
            "Evaluating RMSE, MAE of algorithm KNNBasic on 5 split(s).\n",
            "\n",
            "                  Fold 1  Fold 2  Fold 3  Fold 4  Fold 5  Mean    Std     \n",
            "RMSE (testset)    0.9650  0.9679  0.9608  0.9698  0.9714  0.9670  0.0038  \n",
            "MAE (testset)     0.7429  0.7443  0.7390  0.7447  0.7454  0.7433  0.0023  \n",
            "Fit time          0.14    0.17    0.17    0.46    0.35    0.26    0.13    \n",
            "Test time         1.85    1.91    3.42    4.24    3.13    2.91    0.92    \n"
          ],
          "name": "stdout"
        }
      ]
    },
    {
      "cell_type": "code",
      "metadata": {
        "colab": {
          "base_uri": "https://localhost:8080/"
        },
        "id": "qRdJMxxBkyej",
        "outputId": "6ce11f28-2b47-4c6c-8c7e-927ae79915dd"
      },
      "source": [
        "print('Average MAE for User-based Collaborative Filtering: ', cv_ub['test_mae'].mean())\n",
        "print('Average RMSE for User-based Collaborative Filtering: ', cv_ub['test_rmse'].mean())"
      ],
      "execution_count": 23,
      "outputs": [
        {
          "output_type": "stream",
          "text": [
            "Average MAE for User-based Collaborative Filtering:  0.7432559106647483\n",
            "Average RMSE for User-based Collaborative Filtering:  0.9669914849698678\n"
          ],
          "name": "stdout"
        }
      ]
    },
    {
      "cell_type": "markdown",
      "metadata": {
        "id": "y0vFYjAMjR5j"
      },
      "source": [
        "### Item based CF"
      ]
    },
    {
      "cell_type": "code",
      "metadata": {
        "colab": {
          "base_uri": "https://localhost:8080/"
        },
        "id": "44kC2klHgHuK",
        "outputId": "39a82802-9b09-47d0-d0aa-5c95e16cc371"
      },
      "source": [
        "sim_options = {'user_based': False}\n",
        "item_based_cf = KNNBasic(sim_options=sim_options)\n",
        "cv_ib = cross_validate(item_based_cf, data, measures=['RMSE', 'MAE'], cv=5, verbose=True);"
      ],
      "execution_count": null,
      "outputs": [
        {
          "output_type": "stream",
          "text": [
            "Computing the msd similarity matrix...\n",
            "Done computing similarity matrix.\n",
            "Computing the msd similarity matrix...\n",
            "Done computing similarity matrix.\n",
            "Computing the msd similarity matrix...\n",
            "Done computing similarity matrix.\n",
            "Computing the msd similarity matrix...\n",
            "Done computing similarity matrix.\n",
            "Computing the msd similarity matrix...\n",
            "Done computing similarity matrix.\n",
            "Evaluating RMSE, MAE of algorithm KNNBasic on 5 split(s).\n",
            "\n",
            "                  Fold 1  Fold 2  Fold 3  Fold 4  Fold 5  Mean    Std     \n",
            "RMSE (testset)    0.9274  0.9357  0.9385  0.9391  0.9351  0.9352  0.0042  \n",
            "MAE (testset)     0.7156  0.7196  0.7239  0.7229  0.7237  0.7211  0.0032  \n",
            "Fit time          3.81    4.05    4.01    3.83    4.37    4.01    0.20    \n",
            "Test time         8.09    8.18    8.27    8.02    8.04    8.12    0.09    \n"
          ],
          "name": "stdout"
        }
      ]
    },
    {
      "cell_type": "code",
      "metadata": {
        "colab": {
          "base_uri": "https://localhost:8080/"
        },
        "id": "5WnqMTGMhLwI",
        "outputId": "e3ed2386-047a-4224-c141-abd55f86c434"
      },
      "source": [
        "print('Average MAE for Item-based Collaborative Filtering: ', cv_ib['test_mae'].mean())\n",
        "print('Average RMSE for Item-based Collaborative Filtering: ', cv_ib['test_rmse'].mean())"
      ],
      "execution_count": null,
      "outputs": [
        {
          "output_type": "stream",
          "text": [
            "Average MAE for Item-based Collaborative Filtering:  0.7211047824140211\n",
            "Average RMSE for Item-based Collaborative Filtering:  0.935158563309338\n"
          ],
          "name": "stdout"
        }
      ]
    },
    {
      "cell_type": "markdown",
      "metadata": {
        "id": "AzhvJn_FlpSs"
      },
      "source": [
        "## Comparison of similarity metrics"
      ]
    },
    {
      "cell_type": "markdown",
      "metadata": {
        "id": "GGuHK3zFmikn"
      },
      "source": [
        "### User-based CF"
      ]
    },
    {
      "cell_type": "markdown",
      "metadata": {
        "id": "P8ydLApHmCI2"
      },
      "source": [
        "#### Cosine"
      ]
    },
    {
      "cell_type": "code",
      "metadata": {
        "colab": {
          "base_uri": "https://localhost:8080/"
        },
        "id": "pAvMefYzjebz",
        "outputId": "463b4e10-319f-4f55-fa07-db826e0d0afe"
      },
      "source": [
        "sim_options = {'name':'cosine', 'user_based': True}\n",
        "ub_cosine = KNNBasic(sim_options=sim_options);\n",
        "cv_ub_cosine = cross_validate(ub_cosine, data, measures=['RMSE', 'MAE'], cv=5, verbose=True);"
      ],
      "execution_count": null,
      "outputs": [
        {
          "output_type": "stream",
          "text": [
            "Computing the cosine similarity matrix...\n",
            "Done computing similarity matrix.\n",
            "Computing the cosine similarity matrix...\n",
            "Done computing similarity matrix.\n",
            "Computing the cosine similarity matrix...\n",
            "Done computing similarity matrix.\n",
            "Computing the cosine similarity matrix...\n",
            "Done computing similarity matrix.\n",
            "Computing the cosine similarity matrix...\n",
            "Done computing similarity matrix.\n",
            "Evaluating RMSE, MAE of algorithm KNNBasic on 5 split(s).\n",
            "\n",
            "                  Fold 1  Fold 2  Fold 3  Fold 4  Fold 5  Mean    Std     \n",
            "RMSE (testset)    0.9896  0.9988  0.9950  0.9891  0.9915  0.9928  0.0036  \n",
            "MAE (testset)     0.7651  0.7727  0.7701  0.7639  0.7643  0.7672  0.0035  \n",
            "Fit time          0.37    0.42    0.43    0.41    0.44    0.42    0.02    \n",
            "Test time         1.76    1.88    1.74    1.88    1.75    1.80    0.07    \n"
          ],
          "name": "stdout"
        }
      ]
    },
    {
      "cell_type": "markdown",
      "metadata": {
        "id": "Qlb48WEAmF77"
      },
      "source": [
        "#### MSD"
      ]
    },
    {
      "cell_type": "code",
      "metadata": {
        "colab": {
          "base_uri": "https://localhost:8080/"
        },
        "id": "gfYWpC7ymHid",
        "outputId": "c096a0c2-6dae-4eea-f392-9cc070c26ef5"
      },
      "source": [
        "sim_options = {'name':'msd', 'user_based': True}\n",
        "ub_msd = KNNBasic(sim_options=sim_options);\n",
        "cv_ub_msd = cross_validate(ub_msd, data, measures=['RMSE', 'MAE'], cv=5, verbose=True);"
      ],
      "execution_count": null,
      "outputs": [
        {
          "output_type": "stream",
          "text": [
            "Computing the msd similarity matrix...\n",
            "Done computing similarity matrix.\n",
            "Computing the msd similarity matrix...\n",
            "Done computing similarity matrix.\n",
            "Computing the msd similarity matrix...\n",
            "Done computing similarity matrix.\n",
            "Computing the msd similarity matrix...\n",
            "Done computing similarity matrix.\n",
            "Computing the msd similarity matrix...\n",
            "Done computing similarity matrix.\n",
            "Evaluating RMSE, MAE of algorithm KNNBasic on 5 split(s).\n",
            "\n",
            "                  Fold 1  Fold 2  Fold 3  Fold 4  Fold 5  Mean    Std     \n",
            "RMSE (testset)    0.9658  0.9668  0.9715  0.9747  0.9633  0.9684  0.0041  \n",
            "MAE (testset)     0.7450  0.7451  0.7456  0.7470  0.7396  0.7445  0.0025  \n",
            "Fit time          0.14    0.17    0.18    0.17    0.18    0.17    0.01    \n",
            "Test time         1.91    1.73    1.91    1.76    1.90    1.84    0.08    \n"
          ],
          "name": "stdout"
        }
      ]
    },
    {
      "cell_type": "markdown",
      "metadata": {
        "id": "oYhkRJwZmJyr"
      },
      "source": [
        "#### Pearson"
      ]
    },
    {
      "cell_type": "code",
      "metadata": {
        "colab": {
          "base_uri": "https://localhost:8080/"
        },
        "id": "nA40vBHgmLDT",
        "outputId": "01244849-75cb-4258-a1eb-52f340b30406"
      },
      "source": [
        "sim_options = {'name':'pearson', 'user_based': True}\n",
        "ub_pearson = KNNBasic(sim_options=sim_options);\n",
        "cv_ub_pearson = cross_validate(ub_pearson, data, measures=['RMSE', 'MAE'], cv=5, verbose=True);"
      ],
      "execution_count": null,
      "outputs": [
        {
          "output_type": "stream",
          "text": [
            "Computing the pearson similarity matrix...\n",
            "Done computing similarity matrix.\n",
            "Computing the pearson similarity matrix...\n",
            "Done computing similarity matrix.\n",
            "Computing the pearson similarity matrix...\n",
            "Done computing similarity matrix.\n",
            "Computing the pearson similarity matrix...\n",
            "Done computing similarity matrix.\n",
            "Computing the pearson similarity matrix...\n",
            "Done computing similarity matrix.\n",
            "Evaluating RMSE, MAE of algorithm KNNBasic on 5 split(s).\n",
            "\n",
            "                  Fold 1  Fold 2  Fold 3  Fold 4  Fold 5  Mean    Std     \n",
            "RMSE (testset)    0.9962  0.9958  0.9997  1.0050  0.9987  0.9991  0.0033  \n",
            "MAE (testset)     0.7711  0.7689  0.7726  0.7807  0.7733  0.7733  0.0040  \n",
            "Fit time          0.56    0.59    0.59    0.57    0.60    0.58    0.01    \n",
            "Test time         1.71    1.88    1.71    1.86    1.72    1.77    0.08    \n"
          ],
          "name": "stdout"
        }
      ]
    },
    {
      "cell_type": "markdown",
      "metadata": {
        "id": "GEcdBHDdusrR"
      },
      "source": [
        "#### Observation"
      ]
    },
    {
      "cell_type": "code",
      "metadata": {
        "colab": {
          "base_uri": "https://localhost:8080/",
          "height": 295
        },
        "id": "URHTH9ySuxJ1",
        "outputId": "881fddde-32e8-424c-9a81-6ff02565b617"
      },
      "source": [
        "x = [0,1,2]\n",
        "y_mae = [cv_ub_cosine['test_mae'].mean(),cv_ub_msd['test_mae'].mean(),cv_ub_pearson['test_mae'].mean()]\n",
        "y_rmse = [cv_ub_cosine['test_rmse'].mean(),cv_ub_msd['test_rmse'].mean(),cv_ub_pearson['test_rmse'].mean()]\n",
        "plt.plot(x, y_mae)\n",
        "plt.plot(x, y_rmse)\n",
        "plt.title('User-based Collaborative Filtering(With 5-fold CV)')\n",
        "plt.legend(['MAE','RMSE'])\n",
        "plt.xticks(x,['Cosine','MSD','Pearson'])\n",
        "plt.xlabel('Similarity')\n",
        "plt.ylabel('Average Test(MAE & RMSE)')\n",
        "plt.show()"
      ],
      "execution_count": null,
      "outputs": [
        {
          "output_type": "display_data",
          "data": {
            "image/png": "[encoded data removed]",
            "text/plain": [
              "<Figure size 432x288 with 1 Axes>"
            ]
          },
          "metadata": {
            "tags": [],
            "needs_background": "light"
          }
        }
      ]
    },
    {
      "cell_type": "markdown",
      "metadata": {
        "id": "_pHXKOJVn4Ls"
      },
      "source": [
        "### Item-based CF"
      ]
    },
    {
      "cell_type": "markdown",
      "metadata": {
        "id": "ZjcSuxxTn_K3"
      },
      "source": [
        "#### Cosine"
      ]
    },
    {
      "cell_type": "code",
      "metadata": {
        "colab": {
          "base_uri": "https://localhost:8080/"
        },
        "id": "xAz6dktJoT53",
        "outputId": "bae333fd-6f73-4de9-f67a-4cea4b171bd6"
      },
      "source": [
        "sim_options = {'name':'cosine', 'user_based': False}\n",
        "ib_cosine = KNNBasic(sim_options=sim_options);\n",
        "cv_ib_cosine = cross_validate(ib_cosine, data, measures=['RMSE', 'MAE'], cv=5, verbose=True);"
      ],
      "execution_count": null,
      "outputs": [
        {
          "output_type": "stream",
          "text": [
            "Computing the cosine similarity matrix...\n",
            "Done computing similarity matrix.\n",
            "Computing the cosine similarity matrix...\n",
            "Done computing similarity matrix.\n",
            "Computing the cosine similarity matrix...\n",
            "Done computing similarity matrix.\n",
            "Computing the cosine similarity matrix...\n",
            "Done computing similarity matrix.\n",
            "Computing the cosine similarity matrix...\n",
            "Done computing similarity matrix.\n",
            "Evaluating RMSE, MAE of algorithm KNNBasic on 5 split(s).\n",
            "\n",
            "                  Fold 1  Fold 2  Fold 3  Fold 4  Fold 5  Mean    Std     \n",
            "RMSE (testset)    0.9962  1.0067  0.9944  0.9914  0.9924  0.9962  0.0055  \n",
            "MAE (testset)     0.7742  0.7847  0.7757  0.7738  0.7732  0.7763  0.0043  \n",
            "Fit time          14.25   15.88   16.56   16.43   14.21   15.46   1.03    \n",
            "Test time         8.09    8.05    7.99    7.91    7.78    7.96    0.11    \n"
          ],
          "name": "stdout"
        }
      ]
    },
    {
      "cell_type": "markdown",
      "metadata": {
        "id": "RB4JNv2apDd0"
      },
      "source": [
        "#### MSD"
      ]
    },
    {
      "cell_type": "code",
      "metadata": {
        "colab": {
          "base_uri": "https://localhost:8080/"
        },
        "id": "iOY_TocqpG6W",
        "outputId": "2c8f089c-fa61-47d1-d40f-e26591309d7b"
      },
      "source": [
        "sim_options = {'name':'msd', 'user_based': False}\n",
        "ib_msd = KNNBasic(sim_options=sim_options);\n",
        "cv_ib_msd = cross_validate(ib_msd, data, measures=['RMSE', 'MAE'], cv=5, verbose=True);"
      ],
      "execution_count": null,
      "outputs": [
        {
          "output_type": "stream",
          "text": [
            "Computing the msd similarity matrix...\n",
            "Done computing similarity matrix.\n",
            "Computing the msd similarity matrix...\n",
            "Done computing similarity matrix.\n",
            "Computing the msd similarity matrix...\n",
            "Done computing similarity matrix.\n",
            "Computing the msd similarity matrix...\n",
            "Done computing similarity matrix.\n",
            "Computing the msd similarity matrix...\n",
            "Done computing similarity matrix.\n",
            "Evaluating RMSE, MAE of algorithm KNNBasic on 5 split(s).\n",
            "\n",
            "                  Fold 1  Fold 2  Fold 3  Fold 4  Fold 5  Mean    Std     \n",
            "RMSE (testset)    0.9325  0.9285  0.9429  0.9380  0.9322  0.9348  0.0050  \n",
            "MAE (testset)     0.7189  0.7168  0.7255  0.7261  0.7176  0.7210  0.0040  \n",
            "Fit time          3.91    4.09    3.91    3.93    4.01    3.97    0.07    \n",
            "Test time         7.72    8.39    8.14    8.17    8.13    8.11    0.22    \n"
          ],
          "name": "stdout"
        }
      ]
    },
    {
      "cell_type": "markdown",
      "metadata": {
        "id": "5GaQGPygpI8U"
      },
      "source": [
        "#### Pearson"
      ]
    },
    {
      "cell_type": "code",
      "metadata": {
        "colab": {
          "base_uri": "https://localhost:8080/"
        },
        "id": "0SGw3Hp-pLEN",
        "outputId": "b4ccc284-98b6-4a54-f1e0-fa4ab697ba62"
      },
      "source": [
        "sim_options = {'name':'pearson', 'user_based': False}\n",
        "ib_pearson = KNNBasic(sim_options=sim_options);\n",
        "cv_ib_pearson = cross_validate(ib_pearson, data, measures=['RMSE', 'MAE'], cv=5, verbose=True);"
      ],
      "execution_count": null,
      "outputs": [
        {
          "output_type": "stream",
          "text": [
            "Computing the pearson similarity matrix...\n",
            "Done computing similarity matrix.\n",
            "Computing the pearson similarity matrix...\n",
            "Done computing similarity matrix.\n",
            "Computing the pearson similarity matrix...\n",
            "Done computing similarity matrix.\n",
            "Computing the pearson similarity matrix...\n",
            "Done computing similarity matrix.\n",
            "Computing the pearson similarity matrix...\n",
            "Done computing similarity matrix.\n",
            "Evaluating RMSE, MAE of algorithm KNNBasic on 5 split(s).\n",
            "\n",
            "                  Fold 1  Fold 2  Fold 3  Fold 4  Fold 5  Mean    Std     \n",
            "RMSE (testset)    0.9937  0.9859  0.9864  0.9942  0.9862  0.9893  0.0038  \n",
            "MAE (testset)     0.7716  0.7678  0.7649  0.7685  0.7672  0.7680  0.0022  \n",
            "Fit time          19.01   19.61   19.16   19.07   19.00   19.17   0.23    \n",
            "Test time         7.33    7.90    7.81    7.91    7.84    7.76    0.22    \n"
          ],
          "name": "stdout"
        }
      ]
    },
    {
      "cell_type": "markdown",
      "metadata": {
        "id": "3HVqA_ZKm3_z"
      },
      "source": [
        "#### Observation"
      ]
    },
    {
      "cell_type": "code",
      "metadata": {
        "colab": {
          "base_uri": "https://localhost:8080/",
          "height": 295
        },
        "id": "furyaSO4m6Mg",
        "outputId": "fbc46360-67c7-40a1-cc58-b30ec42b2232"
      },
      "source": [
        "x = [0,1,2]\n",
        "y_mae = [cv_ib_cosine['test_mae'].mean(),cv_ib_msd['test_mae'].mean(),cv_ib_pearson['test_mae'].mean()]\n",
        "y_rmse = [cv_ib_cosine['test_rmse'].mean(),cv_ib_msd['test_rmse'].mean(),cv_ib_pearson['test_rmse'].mean()]\n",
        "plt.plot(x, y_mae)\n",
        "plt.plot(x, y_rmse)\n",
        "plt.title('Item-based Collaborative Filtering(With 5-fold CV)')\n",
        "plt.legend(['MAE','RMSE'])\n",
        "plt.xticks(x,['Cosine','MSD','Pearson'])\n",
        "plt.xlabel('Similarity')\n",
        "plt.ylabel('Average Test(MAE & RMSE)')\n",
        "plt.show()"
      ],
      "execution_count": null,
      "outputs": [
        {
          "output_type": "display_data",
          "data": {
            "image/png": "[encoded data removed]",
            "text/plain": [
              "<Figure size 432x288 with 1 Axes>"
            ]
          },
          "metadata": {
            "tags": []
          }
        }
      ]
    },
    {
      "cell_type": "markdown",
      "metadata": {
        "id": "SSZ0l3cDyLSd"
      },
      "source": [
        "## Impact of Number of neighbours on model"
      ]
    },
    {
      "cell_type": "code",
      "metadata": {
        "id": "-4lwbrH5yN6S"
      },
      "source": [
        "trainset, testset = train_test_split(data, test_size = 0.25, random_state = 42)"
      ],
      "execution_count": 11,
      "outputs": []
    },
    {
      "cell_type": "markdown",
      "metadata": {
        "id": "fWtdGPAZ6usn"
      },
      "source": [
        "#### User-based CF"
      ]
    },
    {
      "cell_type": "code",
      "metadata": {
        "id": "9QBOeW7NzCIK"
      },
      "source": [
        "ubc_nn_mae = []\n",
        "ubc_nn_rmse = []\n",
        "k1 = list(np.arange(1,100,1))\n",
        "for i in k1:\n",
        "  ubc_nn = KNNBasic(k = i, sim_options = {'user_based' : True})\n",
        "  ubc_nn.fit(trainset)\n",
        "  predictions = ubc_nn.test(testset)\n",
        "  ubc_nn_mae.append(accuracy.mae(predictions))\n",
        "  ubc_nn_rmse.append(accuracy.rmse(predictions))"
      ],
      "execution_count": null,
      "outputs": []
    },
    {
      "cell_type": "code",
      "metadata": {
        "colab": {
          "base_uri": "https://localhost:8080/",
          "height": 295
        },
        "id": "Qj_YOU1Q2xWX",
        "outputId": "aabee347-8cdb-4bce-c99d-69ec8e3ac56d"
      },
      "source": [
        "plt.plot(k1,ubc_nn_mae)\n",
        "plt.plot(k1,ubc_nn_rmse)\n",
        "plt.xlabel('Number of Neighbors')\n",
        "plt.ylabel('Testset(MAE & RMSE)')\n",
        "plt.legend(['MAE','RMSE'])\n",
        "plt.title('User-based Collaborative Filtering')\n",
        "plt.show()"
      ],
      "execution_count": 13,
      "outputs": [
        {
          "output_type": "display_data",
          "data": {
            "image/png": "[encoded data removed]",
            "text/plain": [
              "<Figure size 432x288 with 1 Axes>"
            ]
          },
          "metadata": {
            "tags": [],
            "needs_background": "light"
          }
        }
      ]
    },
    {
      "cell_type": "code",
      "metadata": {
        "colab": {
          "base_uri": "https://localhost:8080/"
        },
        "id": "rdS7adXpXKAA",
        "outputId": "3eade4e9-e9d4-41cb-8b50-e527b1bd84c1"
      },
      "source": [
        "#Best K\n",
        "k_ubc = ubc_nn_rmse.index(min(ubc_nn_rmse))+1\n",
        "print('Best Value of K : ', k_ubc)\n",
        "print('Minimum RMSE : ', min(ubc_nn_rmse))"
      ],
      "execution_count": 20,
      "outputs": [
        {
          "output_type": "stream",
          "text": [
            "Best Value of K :  15\n",
            "Minimum RMSE :  0.9663589276453397\n"
          ],
          "name": "stdout"
        }
      ]
    },
    {
      "cell_type": "markdown",
      "metadata": {
        "id": "E043gb166pjs"
      },
      "source": [
        "#### Item-based CF"
      ]
    },
    {
      "cell_type": "code",
      "metadata": {
        "id": "Sy6Kjwb64CjE"
      },
      "source": [
        "ibc_nn_mae = []\n",
        "ibc_nn_rmse = []\n",
        "for i in k1:\n",
        "  ibc_nn = KNNBasic(k = i, sim_options = {'user_based' : False})\n",
        "  ibc_nn.fit(trainset)\n",
        "  predictions = ibc_nn.test(testset)\n",
        "  ibc_nn_mae.append(accuracy.mae(predictions))\n",
        "  ibc_nn_rmse.append(accuracy.rmse(predictions))"
      ],
      "execution_count": null,
      "outputs": []
    },
    {
      "cell_type": "code",
      "metadata": {
        "colab": {
          "base_uri": "https://localhost:8080/",
          "height": 295
        },
        "id": "qsojTJGI4RcD",
        "outputId": "d72dfd7a-6264-4f04-8f66-df95c937f50b"
      },
      "source": [
        "plt.plot(k1,ibc_nn_mae)\n",
        "plt.plot(k1,ibc_nn_rmse)\n",
        "plt.xlabel('Number of Neighbors')\n",
        "plt.ylabel('Testset(MAE & RMSE)')\n",
        "plt.legend(['MAE','RMSE'])\n",
        "plt.title('Item-based Collaborative Filtering')\n",
        "plt.show()"
      ],
      "execution_count": 15,
      "outputs": [
        {
          "output_type": "display_data",
          "data": {
            "image/png": "[encoded data removed]",
            "text/plain": [
              "<Figure size 432x288 with 1 Axes>"
            ]
          },
          "metadata": {
            "tags": [],
            "needs_background": "light"
          }
        }
      ]
    },
    {
      "cell_type": "code",
      "metadata": {
        "colab": {
          "base_uri": "https://localhost:8080/"
        },
        "id": "W0FI_eFbCMkk",
        "outputId": "d871b20c-9740-4020-d113-e240923e7399"
      },
      "source": [
        "#Best K\n",
        "k_ibc = ibc_nn_rmse.index(min(ibc_nn_rmse))+1\n",
        "print('Best Value of K : ', k_ibc)\n",
        "print('Minimum RMSE : ', min(ibc_nn_rmse))"
      ],
      "execution_count": 19,
      "outputs": [
        {
          "output_type": "stream",
          "text": [
            "Best Value of K :  68\n",
            "Minimum RMSE :  0.941359509155313\n"
          ],
          "name": "stdout"
        }
      ]
    }
  ]
}
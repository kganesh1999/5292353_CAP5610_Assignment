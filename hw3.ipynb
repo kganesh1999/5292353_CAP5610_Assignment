{
  "nbformat": 4,
  "nbformat_minor": 0,
  "metadata": {
    "colab": {
      "name": "hw3.ipynb",
      "provenance": [],
      "collapsed_sections": [
        "FdbJKgxN5Pun"
      ],
      "authorship_tag": "ABX9TyOFrZlZ1Q4mm9+f7UVT4Euh",
      "include_colab_link": true
    },
    "kernelspec": {
      "name": "python3",
      "display_name": "Python 3"
    }
  },
  "cells": [
    {
      "cell_type": "markdown",
      "metadata": {
        "id": "view-in-github",
        "colab_type": "text"
      },
      "source": [
        "<a href=\"https://colab.research.google.com/github/kganesh1999/5292353_CAP5610_Assignment/blob/main/hw3.ipynb\" target=\"_parent\"><img src=\"https://colab.research.google.com/assets/colab-badge.svg\" alt=\"Open In Colab\"/></a>"
      ]
    },
    {
      "cell_type": "code",
      "metadata": {
        "id": "9W5EZCpv0_lZ"
      },
      "source": [
        "#Import Libraries\r\n",
        "import numpy as np\r\n",
        "import pandas as pd\r\n",
        "import random as rand\r\n",
        "import seaborn as sns\r\n",
        "import matplotlib.pyplot as plt"
      ],
      "execution_count": 32,
      "outputs": []
    },
    {
      "cell_type": "markdown",
      "metadata": {
        "id": "KT2uqtIU0Rxu"
      },
      "source": [
        "Question 5"
      ]
    },
    {
      "cell_type": "code",
      "metadata": {
        "id": "0CS19wjq0UNK"
      },
      "source": [
        "pos = np.array([[1, 1],[2, 2],[2,0]])\r\n",
        "neg = np.array([[0,0],[1,0],[0,1]])\r\n",
        "df_pos = pd.DataFrame(pos,columns=['x1','x2'])\r\n",
        "df_neg = pd.DataFrame(neg,columns=['x1','x2'])"
      ],
      "execution_count": null,
      "outputs": []
    },
    {
      "cell_type": "code",
      "metadata": {
        "colab": {
          "base_uri": "https://localhost:8080/",
          "height": 265
        },
        "id": "YkDOtnJC0XcG",
        "outputId": "5b9ce9c5-222b-430d-f1f9-b3c28dd7cc45"
      },
      "source": [
        "plt.scatter(df_pos['x1'],df_pos['x2'], marker = '*', color='green')\r\n",
        "plt.scatter(df_neg['x1'],df_neg['x2'], marker = '*', color='red')\r\n",
        "x=[0,1]\r\n",
        "y=[1,0]\r\n",
        "x1=[1,2]\r\n",
        "y1=[1,0]\r\n",
        "px1 = [0,1,1.5]\r\n",
        "px2 = [1.5,0.5,0]\r\n",
        "plt.plot(x,y, linestyle= \"-.\", color='red')\r\n",
        "plt.plot(x1,y1, linestyle= \"-.\", color='green')\r\n",
        "plt.plot(px1,px2,color='black')\r\n",
        "plt.show()"
      ],
      "execution_count": null,
      "outputs": [
        {
          "output_type": "display_data",
          "data": {
            "image/png": "[encoded data removed]",
            "text/plain": [
              "<Figure size 432x288 with 1 Axes>"
            ]
          },
          "metadata": {
            "tags": [],
            "needs_background": "light"
          }
        }
      ]
    },
    {
      "cell_type": "markdown",
      "metadata": {
        "id": "5YiLXUDdzpR4"
      },
      "source": [
        "Question 6"
      ]
    },
    {
      "cell_type": "code",
      "metadata": {
        "id": "HmdeEZNhzs-B",
        "colab": {
          "base_uri": "https://localhost:8080/"
        },
        "outputId": "adb9d3c3-a10f-4f60-c461-7310eff4cdfa"
      },
      "source": [
        "from sklearn.svm import SVC\r\n",
        "pos= np.array([1,0,0])\r\n",
        "neg = np.array([[1,0,0],[1,1.414,1],[1,-1.414,1]])\r\n",
        "svc = SVC(kernel='linear')\r\n",
        "svc.fit(neg,pos)\r\n",
        "weights = svc.coef_\r\n",
        "b = svc.intercept_\r\n",
        "print('weights:', weights, 'bias:',b)"
      ],
      "execution_count": null,
      "outputs": [
        {
          "output_type": "stream",
          "text": [
            "weights: [[ 0.00000000e+00 -1.01141206e-08 -1.00000000e+00]] bias: [4.28699424e-08]\n"
          ],
          "name": "stdout"
        }
      ]
    },
    {
      "cell_type": "markdown",
      "metadata": {
        "id": "kh2Kx64Ry_QR"
      },
      "source": [
        "Question 7"
      ]
    },
    {
      "cell_type": "code",
      "metadata": {
        "id": "_R68b1WNXn4d"
      },
      "source": [
        "titanic_train = pd.read_csv('train.csv')\r\n",
        "titanic_test = pd.read_csv('test.csv')"
      ],
      "execution_count": 33,
      "outputs": []
    },
    {
      "cell_type": "markdown",
      "metadata": {
        "id": "opHsdGe4ZxuK"
      },
      "source": [
        "#Train Data Preprocessing "
      ]
    },
    {
      "cell_type": "code",
      "metadata": {
        "id": "zBpwd9unY-0W"
      },
      "source": [
        "#Dropping unwanted features\r\n",
        "titanic_train.drop(['Ticket','Cabin'],axis=1,inplace=True)"
      ],
      "execution_count": 34,
      "outputs": []
    },
    {
      "cell_type": "code",
      "metadata": {
        "colab": {
          "base_uri": "https://localhost:8080/",
          "height": 204
        },
        "id": "Rjuv6N3QaEsE",
        "outputId": "b7acaf75-1172-4b58-8913-b63085cd0181"
      },
      "source": [
        "#Convert sex into binary variable (Male = 0 and Female =1)\r\n",
        "bin = pd.get_dummies(titanic_train['Sex'])\r\n",
        "titanic_train = pd.concat((bin,titanic_train),axis=1)\r\n",
        "titanic_train.drop(['Sex','male'],axis=1,inplace=True)\r\n",
        "titanic_train = titanic_train.rename(columns={\"female\":\"Sex\"})\r\n",
        "titanic_train.head()"
      ],
      "execution_count": 35,
      "outputs": [
        {
          "output_type": "execute_result",
          "data": {
            "text/html": [
              "<div>\n",
              "<style scoped>\n",
              "    .dataframe tbody tr th:only-of-type {\n",
              "        vertical-align: middle;\n",
              "    }\n",
              "\n",
              "    .dataframe tbody tr th {\n",
              "        vertical-align: top;\n",
              "    }\n",
              "\n",
              "    .dataframe thead th {\n",
              "        text-align: right;\n",
              "    }\n",
              "</style>\n",
              "<table border=\"1\" class=\"dataframe\">\n",
              "  <thead>\n",
              "    <tr style=\"text-align: right;\">\n",
              "      <th></th>\n",
              "      <th>Sex</th>\n",
              "      <th>PassengerId</th>\n",
              "      <th>Survived</th>\n",
              "      <th>Pclass</th>\n",
              "      <th>Name</th>\n",
              "      <th>Age</th>\n",
              "      <th>SibSp</th>\n",
              "      <th>Parch</th>\n",
              "      <th>Fare</th>\n",
              "      <th>Embarked</th>\n",
              "    </tr>\n",
              "  </thead>\n",
              "  <tbody>\n",
              "    <tr>\n",
              "      <th>0</th>\n",
              "      <td>0</td>\n",
              "      <td>1</td>\n",
              "      <td>0</td>\n",
              "      <td>3</td>\n",
              "      <td>Braund, Mr. Owen Harris</td>\n",
              "      <td>22.0</td>\n",
              "      <td>1</td>\n",
              "      <td>0</td>\n",
              "      <td>7.2500</td>\n",
              "      <td>S</td>\n",
              "    </tr>\n",
              "    <tr>\n",
              "      <th>1</th>\n",
              "      <td>1</td>\n",
              "      <td>2</td>\n",
              "      <td>1</td>\n",
              "      <td>1</td>\n",
              "      <td>Cumings, Mrs. John Bradley (Florence Briggs Th...</td>\n",
              "      <td>38.0</td>\n",
              "      <td>1</td>\n",
              "      <td>0</td>\n",
              "      <td>71.2833</td>\n",
              "      <td>C</td>\n",
              "    </tr>\n",
              "    <tr>\n",
              "      <th>2</th>\n",
              "      <td>1</td>\n",
              "      <td>3</td>\n",
              "      <td>1</td>\n",
              "      <td>3</td>\n",
              "      <td>Heikkinen, Miss. Laina</td>\n",
              "      <td>26.0</td>\n",
              "      <td>0</td>\n",
              "      <td>0</td>\n",
              "      <td>7.9250</td>\n",
              "      <td>S</td>\n",
              "    </tr>\n",
              "    <tr>\n",
              "      <th>3</th>\n",
              "      <td>1</td>\n",
              "      <td>4</td>\n",
              "      <td>1</td>\n",
              "      <td>1</td>\n",
              "      <td>Futrelle, Mrs. Jacques Heath (Lily May Peel)</td>\n",
              "      <td>35.0</td>\n",
              "      <td>1</td>\n",
              "      <td>0</td>\n",
              "      <td>53.1000</td>\n",
              "      <td>S</td>\n",
              "    </tr>\n",
              "    <tr>\n",
              "      <th>4</th>\n",
              "      <td>0</td>\n",
              "      <td>5</td>\n",
              "      <td>0</td>\n",
              "      <td>3</td>\n",
              "      <td>Allen, Mr. William Henry</td>\n",
              "      <td>35.0</td>\n",
              "      <td>0</td>\n",
              "      <td>0</td>\n",
              "      <td>8.0500</td>\n",
              "      <td>S</td>\n",
              "    </tr>\n",
              "  </tbody>\n",
              "</table>\n",
              "</div>"
            ],
            "text/plain": [
              "   Sex  PassengerId  Survived  Pclass  ... SibSp  Parch     Fare  Embarked\n",
              "0    0            1         0       3  ...     1      0   7.2500         S\n",
              "1    1            2         1       1  ...     1      0  71.2833         C\n",
              "2    1            3         1       3  ...     0      0   7.9250         S\n",
              "3    1            4         1       1  ...     1      0  53.1000         S\n",
              "4    0            5         0       3  ...     0      0   8.0500         S\n",
              "\n",
              "[5 rows x 10 columns]"
            ]
          },
          "metadata": {
            "tags": []
          },
          "execution_count": 35
        }
      ]
    },
    {
      "cell_type": "code",
      "metadata": {
        "colab": {
          "base_uri": "https://localhost:8080/"
        },
        "id": "rRSEwmO5tLVw",
        "outputId": "8c88bea2-b3fd-4e74-a8da-f3ce2c6fdfbd"
      },
      "source": [
        "#Filling missing values in Age feature \r\n",
        "mean=titanic_train['Age'].mean()\r\n",
        "std=titanic_train['Age'].std()\r\n",
        "titanic_train['Age'] = titanic_train['Age'].fillna(value=np.random.randint(mean-std, mean+std))\r\n",
        "titanic_train['Age'].isna().sum()"
      ],
      "execution_count": 36,
      "outputs": [
        {
          "output_type": "execute_result",
          "data": {
            "text/plain": [
              "0"
            ]
          },
          "metadata": {
            "tags": []
          },
          "execution_count": 36
        }
      ]
    },
    {
      "cell_type": "code",
      "metadata": {
        "colab": {
          "base_uri": "https://localhost:8080/"
        },
        "id": "trwkk2VotO-h",
        "outputId": "2cd3dbbf-a74d-4212-e7f5-9133f5ab8ae9"
      },
      "source": [
        "#Filling missing values in Embarked feature\r\n",
        "titanic_train['Embarked'].fillna(titanic_train['Embarked'].mode()[0],inplace=True)\r\n",
        "titanic_train['Embarked'].isna().sum()"
      ],
      "execution_count": 37,
      "outputs": [
        {
          "output_type": "execute_result",
          "data": {
            "text/plain": [
              "0"
            ]
          },
          "metadata": {
            "tags": []
          },
          "execution_count": 37
        }
      ]
    },
    {
      "cell_type": "code",
      "metadata": {
        "id": "abep1_JddZGy"
      },
      "source": [
        "#Conversion of Numerical values in Fare column to ordinal values\r\n",
        "def mask(data):\r\n",
        "  if ((data >= -1.00) & (data <= 7.91)):\r\n",
        "    return int(0)\r\n",
        "  elif ((data > 7.91) & (data <= 14.454)):\r\n",
        "    return int(1)\r\n",
        "  elif ((data > 14.454) & (data <= 31.0)):\r\n",
        "    return int(2)\r\n",
        "  elif (data > 31.0):\r\n",
        "    return int(3)\r\n",
        "titanic_train['Fare'] = titanic_train['Fare'].apply(mask)"
      ],
      "execution_count": 38,
      "outputs": []
    },
    {
      "cell_type": "code",
      "metadata": {
        "id": "OALFku4cuRgZ"
      },
      "source": [
        "\r\n",
        "#Encoding Embarked values (S=1, C=2, Q=3)\r\n",
        "encode_emb={'Embarked' : {\"S\":1,\"C\":2,\"Q\":3}}\r\n",
        "titanic_train = titanic_train.replace(encode_emb)"
      ],
      "execution_count": 39,
      "outputs": []
    },
    {
      "cell_type": "code",
      "metadata": {
        "id": "JESbXk7u5l4Q"
      },
      "source": [
        "#Create another feature 'IsAlone'\r\n",
        "def boolean(data):\r\n",
        "  if (data==0):\r\n",
        "    return 1\r\n",
        "  else:\r\n",
        "    return 0\r\n",
        "titanic_train['IsAlone'] = titanic_train['SibSp'] + titanic_train['Parch']\r\n",
        "titanic_train['IsAlone'] = titanic_train['IsAlone'].apply(boolean)"
      ],
      "execution_count": 40,
      "outputs": []
    },
    {
      "cell_type": "code",
      "metadata": {
        "id": "4F9COww7wfRs"
      },
      "source": [
        "#Drop PassengerID and Name\r\n",
        "titanic_train.drop(['PassengerId','Name'],axis=1,inplace=True)"
      ],
      "execution_count": 41,
      "outputs": []
    },
    {
      "cell_type": "code",
      "metadata": {
        "colab": {
          "base_uri": "https://localhost:8080/",
          "height": 204
        },
        "id": "nT9OkwNse3d2",
        "outputId": "7a4fdae4-176b-457b-ea6c-bbfe449a5165"
      },
      "source": [
        "titanic_train.head()"
      ],
      "execution_count": 42,
      "outputs": [
        {
          "output_type": "execute_result",
          "data": {
            "text/html": [
              "<div>\n",
              "<style scoped>\n",
              "    .dataframe tbody tr th:only-of-type {\n",
              "        vertical-align: middle;\n",
              "    }\n",
              "\n",
              "    .dataframe tbody tr th {\n",
              "        vertical-align: top;\n",
              "    }\n",
              "\n",
              "    .dataframe thead th {\n",
              "        text-align: right;\n",
              "    }\n",
              "</style>\n",
              "<table border=\"1\" class=\"dataframe\">\n",
              "  <thead>\n",
              "    <tr style=\"text-align: right;\">\n",
              "      <th></th>\n",
              "      <th>Sex</th>\n",
              "      <th>Survived</th>\n",
              "      <th>Pclass</th>\n",
              "      <th>Age</th>\n",
              "      <th>SibSp</th>\n",
              "      <th>Parch</th>\n",
              "      <th>Fare</th>\n",
              "      <th>Embarked</th>\n",
              "      <th>IsAlone</th>\n",
              "    </tr>\n",
              "  </thead>\n",
              "  <tbody>\n",
              "    <tr>\n",
              "      <th>0</th>\n",
              "      <td>0</td>\n",
              "      <td>0</td>\n",
              "      <td>3</td>\n",
              "      <td>22.0</td>\n",
              "      <td>1</td>\n",
              "      <td>0</td>\n",
              "      <td>0</td>\n",
              "      <td>1</td>\n",
              "      <td>0</td>\n",
              "    </tr>\n",
              "    <tr>\n",
              "      <th>1</th>\n",
              "      <td>1</td>\n",
              "      <td>1</td>\n",
              "      <td>1</td>\n",
              "      <td>38.0</td>\n",
              "      <td>1</td>\n",
              "      <td>0</td>\n",
              "      <td>3</td>\n",
              "      <td>2</td>\n",
              "      <td>0</td>\n",
              "    </tr>\n",
              "    <tr>\n",
              "      <th>2</th>\n",
              "      <td>1</td>\n",
              "      <td>1</td>\n",
              "      <td>3</td>\n",
              "      <td>26.0</td>\n",
              "      <td>0</td>\n",
              "      <td>0</td>\n",
              "      <td>1</td>\n",
              "      <td>1</td>\n",
              "      <td>1</td>\n",
              "    </tr>\n",
              "    <tr>\n",
              "      <th>3</th>\n",
              "      <td>1</td>\n",
              "      <td>1</td>\n",
              "      <td>1</td>\n",
              "      <td>35.0</td>\n",
              "      <td>1</td>\n",
              "      <td>0</td>\n",
              "      <td>3</td>\n",
              "      <td>1</td>\n",
              "      <td>0</td>\n",
              "    </tr>\n",
              "    <tr>\n",
              "      <th>4</th>\n",
              "      <td>0</td>\n",
              "      <td>0</td>\n",
              "      <td>3</td>\n",
              "      <td>35.0</td>\n",
              "      <td>0</td>\n",
              "      <td>0</td>\n",
              "      <td>1</td>\n",
              "      <td>1</td>\n",
              "      <td>1</td>\n",
              "    </tr>\n",
              "  </tbody>\n",
              "</table>\n",
              "</div>"
            ],
            "text/plain": [
              "   Sex  Survived  Pclass   Age  SibSp  Parch  Fare  Embarked  IsAlone\n",
              "0    0         0       3  22.0      1      0     0         1        0\n",
              "1    1         1       1  38.0      1      0     3         2        0\n",
              "2    1         1       3  26.0      0      0     1         1        1\n",
              "3    1         1       1  35.0      1      0     3         1        0\n",
              "4    0         0       3  35.0      0      0     1         1        1"
            ]
          },
          "metadata": {
            "tags": []
          },
          "execution_count": 42
        }
      ]
    },
    {
      "cell_type": "code",
      "metadata": {
        "colab": {
          "base_uri": "https://localhost:8080/"
        },
        "id": "cXKdO-VHcBTs",
        "outputId": "aa1b7f50-d9b0-486e-eecc-29639800fd89"
      },
      "source": [
        "titanic_train.isna().sum()"
      ],
      "execution_count": 43,
      "outputs": [
        {
          "output_type": "execute_result",
          "data": {
            "text/plain": [
              "Sex         0\n",
              "Survived    0\n",
              "Pclass      0\n",
              "Age         0\n",
              "SibSp       0\n",
              "Parch       0\n",
              "Fare        0\n",
              "Embarked    0\n",
              "IsAlone     0\n",
              "dtype: int64"
            ]
          },
          "metadata": {
            "tags": []
          },
          "execution_count": 43
        }
      ]
    },
    {
      "cell_type": "markdown",
      "metadata": {
        "id": "FdbJKgxN5Pun"
      },
      "source": [
        "# Test Data Preprocessing\r\n"
      ]
    },
    {
      "cell_type": "code",
      "metadata": {
        "id": "sZgQAvma5TUK"
      },
      "source": [
        "#Dropping unwanted features\r\n",
        "titanic_test.drop(['Ticket','Cabin'],axis=1,inplace=True)"
      ],
      "execution_count": 44,
      "outputs": []
    },
    {
      "cell_type": "code",
      "metadata": {
        "id": "ax6sxUmH5a3M"
      },
      "source": [
        "#Convert sex into binary variable (Male = 0 and Female =1)\r\n",
        "bin = pd.get_dummies(titanic_test['Sex'])\r\n",
        "titanic_test = pd.concat((bin,titanic_test),axis=1)\r\n",
        "titanic_test.drop(['Sex','male'],axis=1,inplace=True)\r\n",
        "titanic_test = titanic_test.rename(columns={\"female\":\"Sex\"})"
      ],
      "execution_count": 45,
      "outputs": []
    },
    {
      "cell_type": "code",
      "metadata": {
        "colab": {
          "base_uri": "https://localhost:8080/"
        },
        "id": "IQhv-wRx5vzo",
        "outputId": "3a4155de-7286-4593-e5f7-115fb7d3c345"
      },
      "source": [
        "#Filling missing values in Fare feature\r\n",
        "titanic_test['Fare'].fillna(titanic_test['Fare'].mode()[0],inplace=True)\r\n",
        "titanic_test['Fare'].isna().sum()"
      ],
      "execution_count": 46,
      "outputs": [
        {
          "output_type": "execute_result",
          "data": {
            "text/plain": [
              "0"
            ]
          },
          "metadata": {
            "tags": []
          },
          "execution_count": 46
        }
      ]
    },
    {
      "cell_type": "code",
      "metadata": {
        "colab": {
          "base_uri": "https://localhost:8080/"
        },
        "id": "6PU2UA6M5zuf",
        "outputId": "db676c9b-3181-40f1-f9d6-ff45e781f54e"
      },
      "source": [
        "#Filling missing values in Age feature \r\n",
        "mean = titanic_test['Age'].mean()\r\n",
        "std = titanic_test['Age'].std()\r\n",
        "titanic_test['Age'] = titanic_test['Age'].fillna(value=np.random.randint(mean-std, mean+std))\r\n",
        "titanic_test['Age'].isna().sum()"
      ],
      "execution_count": 47,
      "outputs": [
        {
          "output_type": "execute_result",
          "data": {
            "text/plain": [
              "0"
            ]
          },
          "metadata": {
            "tags": []
          },
          "execution_count": 47
        }
      ]
    },
    {
      "cell_type": "code",
      "metadata": {
        "colab": {
          "base_uri": "https://localhost:8080/"
        },
        "id": "l9Qv4f7x52gH",
        "outputId": "2888074f-3b63-4fc6-f11f-4fb08bd7661f"
      },
      "source": [
        "#Filling missing values in Embarked feature\r\n",
        "titanic_test['Embarked'].fillna(titanic_test['Embarked'].mode()[0],inplace=True)\r\n",
        "titanic_test['Embarked'].isna().sum()"
      ],
      "execution_count": 48,
      "outputs": [
        {
          "output_type": "execute_result",
          "data": {
            "text/plain": [
              "0"
            ]
          },
          "metadata": {
            "tags": []
          },
          "execution_count": 48
        }
      ]
    },
    {
      "cell_type": "code",
      "metadata": {
        "id": "QgXpqsvd561H"
      },
      "source": [
        "#Conversion of Numerical values in Fare column to ordinal values\r\n",
        "def mask(data):\r\n",
        "  if ((data >= 0.00) & (data <= 7.91)):\r\n",
        "    return int(0)\r\n",
        "  elif ((data > 7.91) & (data <= 14.454)):\r\n",
        "    return int(1)\r\n",
        "  elif ((data > 14.454) & (data <= 31.0)):\r\n",
        "    return int(2)\r\n",
        "  elif (data > 31.0):\r\n",
        "    return int(3)\r\n",
        "titanic_test['Fare'] = titanic_test['Fare'].apply(mask)"
      ],
      "execution_count": 49,
      "outputs": []
    },
    {
      "cell_type": "code",
      "metadata": {
        "id": "kOipZRmL596S"
      },
      "source": [
        "\r\n",
        "#Encoding Embarked values (S=1, C=2, Q=3)\r\n",
        "encode_emb={'Embarked' : {\"S\":1,\"C\":2,\"Q\":3}}\r\n",
        "titanic_test = titanic_test.replace(encode_emb)"
      ],
      "execution_count": 50,
      "outputs": []
    },
    {
      "cell_type": "code",
      "metadata": {
        "id": "hmYHH0ZE_mFB"
      },
      "source": [
        "#Create another feature 'IsAlone'\r\n",
        "def boolean(data):\r\n",
        "  if (data==0):\r\n",
        "    return 1\r\n",
        "  else:\r\n",
        "    return 0\r\n",
        "titanic_test['IsAlone'] = titanic_test['SibSp'] + titanic_test['Parch']\r\n",
        "titanic_test['IsAlone'] = titanic_test['IsAlone'].apply(boolean)"
      ],
      "execution_count": 51,
      "outputs": []
    },
    {
      "cell_type": "code",
      "metadata": {
        "colab": {
          "base_uri": "https://localhost:8080/",
          "height": 0
        },
        "id": "RVLDVwGj6wiQ",
        "outputId": "f5a1af47-a14d-4fd2-c0d8-a9c5ad2fcc43"
      },
      "source": [
        "#Drop PassengerID and Name\r\n",
        "titanic_test.drop(['PassengerId','Name'],axis=1,inplace=True)\r\n",
        "titanic_test.head()"
      ],
      "execution_count": 52,
      "outputs": [
        {
          "output_type": "execute_result",
          "data": {
            "text/html": [
              "<div>\n",
              "<style scoped>\n",
              "    .dataframe tbody tr th:only-of-type {\n",
              "        vertical-align: middle;\n",
              "    }\n",
              "\n",
              "    .dataframe tbody tr th {\n",
              "        vertical-align: top;\n",
              "    }\n",
              "\n",
              "    .dataframe thead th {\n",
              "        text-align: right;\n",
              "    }\n",
              "</style>\n",
              "<table border=\"1\" class=\"dataframe\">\n",
              "  <thead>\n",
              "    <tr style=\"text-align: right;\">\n",
              "      <th></th>\n",
              "      <th>Sex</th>\n",
              "      <th>Pclass</th>\n",
              "      <th>Age</th>\n",
              "      <th>SibSp</th>\n",
              "      <th>Parch</th>\n",
              "      <th>Fare</th>\n",
              "      <th>Embarked</th>\n",
              "      <th>IsAlone</th>\n",
              "    </tr>\n",
              "  </thead>\n",
              "  <tbody>\n",
              "    <tr>\n",
              "      <th>0</th>\n",
              "      <td>0</td>\n",
              "      <td>3</td>\n",
              "      <td>34.5</td>\n",
              "      <td>0</td>\n",
              "      <td>0</td>\n",
              "      <td>0</td>\n",
              "      <td>3</td>\n",
              "      <td>1</td>\n",
              "    </tr>\n",
              "    <tr>\n",
              "      <th>1</th>\n",
              "      <td>1</td>\n",
              "      <td>3</td>\n",
              "      <td>47.0</td>\n",
              "      <td>1</td>\n",
              "      <td>0</td>\n",
              "      <td>0</td>\n",
              "      <td>1</td>\n",
              "      <td>0</td>\n",
              "    </tr>\n",
              "    <tr>\n",
              "      <th>2</th>\n",
              "      <td>0</td>\n",
              "      <td>2</td>\n",
              "      <td>62.0</td>\n",
              "      <td>0</td>\n",
              "      <td>0</td>\n",
              "      <td>1</td>\n",
              "      <td>3</td>\n",
              "      <td>1</td>\n",
              "    </tr>\n",
              "    <tr>\n",
              "      <th>3</th>\n",
              "      <td>0</td>\n",
              "      <td>3</td>\n",
              "      <td>27.0</td>\n",
              "      <td>0</td>\n",
              "      <td>0</td>\n",
              "      <td>1</td>\n",
              "      <td>1</td>\n",
              "      <td>1</td>\n",
              "    </tr>\n",
              "    <tr>\n",
              "      <th>4</th>\n",
              "      <td>1</td>\n",
              "      <td>3</td>\n",
              "      <td>22.0</td>\n",
              "      <td>1</td>\n",
              "      <td>1</td>\n",
              "      <td>1</td>\n",
              "      <td>1</td>\n",
              "      <td>0</td>\n",
              "    </tr>\n",
              "  </tbody>\n",
              "</table>\n",
              "</div>"
            ],
            "text/plain": [
              "   Sex  Pclass   Age  SibSp  Parch  Fare  Embarked  IsAlone\n",
              "0    0       3  34.5      0      0     0         3        1\n",
              "1    1       3  47.0      1      0     0         1        0\n",
              "2    0       2  62.0      0      0     1         3        1\n",
              "3    0       3  27.0      0      0     1         1        1\n",
              "4    1       3  22.0      1      1     1         1        0"
            ]
          },
          "metadata": {
            "tags": []
          },
          "execution_count": 52
        }
      ]
    },
    {
      "cell_type": "code",
      "metadata": {
        "colab": {
          "base_uri": "https://localhost:8080/"
        },
        "id": "VA-KQGP7j6cm",
        "outputId": "1cbead6b-5d1d-4121-c1db-576c4e227906"
      },
      "source": [
        "titanic_test.isna().sum()"
      ],
      "execution_count": 53,
      "outputs": [
        {
          "output_type": "execute_result",
          "data": {
            "text/plain": [
              "Sex         0\n",
              "Pclass      0\n",
              "Age         0\n",
              "SibSp       0\n",
              "Parch       0\n",
              "Fare        0\n",
              "Embarked    0\n",
              "IsAlone     0\n",
              "dtype: int64"
            ]
          },
          "metadata": {
            "tags": []
          },
          "execution_count": 53
        }
      ]
    },
    {
      "cell_type": "code",
      "metadata": {
        "colab": {
          "base_uri": "https://localhost:8080/",
          "height": 0
        },
        "id": "Cc04TvmfDk-5",
        "outputId": "a7658ea9-9193-450b-83c1-004794472666"
      },
      "source": [
        "titanic_train.corr()"
      ],
      "execution_count": 54,
      "outputs": [
        {
          "output_type": "execute_result",
          "data": {
            "text/html": [
              "<div>\n",
              "<style scoped>\n",
              "    .dataframe tbody tr th:only-of-type {\n",
              "        vertical-align: middle;\n",
              "    }\n",
              "\n",
              "    .dataframe tbody tr th {\n",
              "        vertical-align: top;\n",
              "    }\n",
              "\n",
              "    .dataframe thead th {\n",
              "        text-align: right;\n",
              "    }\n",
              "</style>\n",
              "<table border=\"1\" class=\"dataframe\">\n",
              "  <thead>\n",
              "    <tr style=\"text-align: right;\">\n",
              "      <th></th>\n",
              "      <th>Sex</th>\n",
              "      <th>Survived</th>\n",
              "      <th>Pclass</th>\n",
              "      <th>Age</th>\n",
              "      <th>SibSp</th>\n",
              "      <th>Parch</th>\n",
              "      <th>Fare</th>\n",
              "      <th>Embarked</th>\n",
              "      <th>IsAlone</th>\n",
              "    </tr>\n",
              "  </thead>\n",
              "  <tbody>\n",
              "    <tr>\n",
              "      <th>Sex</th>\n",
              "      <td>1.000000</td>\n",
              "      <td>0.543351</td>\n",
              "      <td>-0.131900</td>\n",
              "      <td>-0.060533</td>\n",
              "      <td>0.114631</td>\n",
              "      <td>0.245489</td>\n",
              "      <td>0.248940</td>\n",
              "      <td>0.116569</td>\n",
              "      <td>-0.303646</td>\n",
              "    </tr>\n",
              "    <tr>\n",
              "      <th>Survived</th>\n",
              "      <td>0.543351</td>\n",
              "      <td>1.000000</td>\n",
              "      <td>-0.338481</td>\n",
              "      <td>-0.034531</td>\n",
              "      <td>-0.035322</td>\n",
              "      <td>0.081629</td>\n",
              "      <td>0.295875</td>\n",
              "      <td>0.106811</td>\n",
              "      <td>-0.203367</td>\n",
              "    </tr>\n",
              "    <tr>\n",
              "      <th>Pclass</th>\n",
              "      <td>-0.131900</td>\n",
              "      <td>-0.338481</td>\n",
              "      <td>1.000000</td>\n",
              "      <td>-0.370293</td>\n",
              "      <td>0.083081</td>\n",
              "      <td>0.018443</td>\n",
              "      <td>-0.628459</td>\n",
              "      <td>0.045702</td>\n",
              "      <td>0.135207</td>\n",
              "    </tr>\n",
              "    <tr>\n",
              "      <th>Age</th>\n",
              "      <td>-0.060533</td>\n",
              "      <td>-0.034531</td>\n",
              "      <td>-0.370293</td>\n",
              "      <td>1.000000</td>\n",
              "      <td>-0.225338</td>\n",
              "      <td>-0.126687</td>\n",
              "      <td>0.126262</td>\n",
              "      <td>-0.100799</td>\n",
              "      <td>0.118036</td>\n",
              "    </tr>\n",
              "    <tr>\n",
              "      <th>SibSp</th>\n",
              "      <td>0.114631</td>\n",
              "      <td>-0.035322</td>\n",
              "      <td>0.083081</td>\n",
              "      <td>-0.225338</td>\n",
              "      <td>1.000000</td>\n",
              "      <td>0.414838</td>\n",
              "      <td>0.394248</td>\n",
              "      <td>-0.059961</td>\n",
              "      <td>-0.584471</td>\n",
              "    </tr>\n",
              "    <tr>\n",
              "      <th>Parch</th>\n",
              "      <td>0.245489</td>\n",
              "      <td>0.081629</td>\n",
              "      <td>0.018443</td>\n",
              "      <td>-0.126687</td>\n",
              "      <td>0.414838</td>\n",
              "      <td>1.000000</td>\n",
              "      <td>0.393048</td>\n",
              "      <td>-0.078665</td>\n",
              "      <td>-0.583398</td>\n",
              "    </tr>\n",
              "    <tr>\n",
              "      <th>Fare</th>\n",
              "      <td>0.248940</td>\n",
              "      <td>0.295875</td>\n",
              "      <td>-0.628459</td>\n",
              "      <td>0.126262</td>\n",
              "      <td>0.394248</td>\n",
              "      <td>0.393048</td>\n",
              "      <td>1.000000</td>\n",
              "      <td>-0.091096</td>\n",
              "      <td>-0.568942</td>\n",
              "    </tr>\n",
              "    <tr>\n",
              "      <th>Embarked</th>\n",
              "      <td>0.116569</td>\n",
              "      <td>0.106811</td>\n",
              "      <td>0.045702</td>\n",
              "      <td>-0.100799</td>\n",
              "      <td>-0.059961</td>\n",
              "      <td>-0.078665</td>\n",
              "      <td>-0.091096</td>\n",
              "      <td>1.000000</td>\n",
              "      <td>0.017807</td>\n",
              "    </tr>\n",
              "    <tr>\n",
              "      <th>IsAlone</th>\n",
              "      <td>-0.303646</td>\n",
              "      <td>-0.203367</td>\n",
              "      <td>0.135207</td>\n",
              "      <td>0.118036</td>\n",
              "      <td>-0.584471</td>\n",
              "      <td>-0.583398</td>\n",
              "      <td>-0.568942</td>\n",
              "      <td>0.017807</td>\n",
              "      <td>1.000000</td>\n",
              "    </tr>\n",
              "  </tbody>\n",
              "</table>\n",
              "</div>"
            ],
            "text/plain": [
              "               Sex  Survived    Pclass  ...      Fare  Embarked   IsAlone\n",
              "Sex       1.000000  0.543351 -0.131900  ...  0.248940  0.116569 -0.303646\n",
              "Survived  0.543351  1.000000 -0.338481  ...  0.295875  0.106811 -0.203367\n",
              "Pclass   -0.131900 -0.338481  1.000000  ... -0.628459  0.045702  0.135207\n",
              "Age      -0.060533 -0.034531 -0.370293  ...  0.126262 -0.100799  0.118036\n",
              "SibSp     0.114631 -0.035322  0.083081  ...  0.394248 -0.059961 -0.584471\n",
              "Parch     0.245489  0.081629  0.018443  ...  0.393048 -0.078665 -0.583398\n",
              "Fare      0.248940  0.295875 -0.628459  ...  1.000000 -0.091096 -0.568942\n",
              "Embarked  0.116569  0.106811  0.045702  ... -0.091096  1.000000  0.017807\n",
              "IsAlone  -0.303646 -0.203367  0.135207  ... -0.568942  0.017807  1.000000\n",
              "\n",
              "[9 rows x 9 columns]"
            ]
          },
          "metadata": {
            "tags": []
          },
          "execution_count": 54
        }
      ]
    },
    {
      "cell_type": "markdown",
      "metadata": {
        "id": "CKbsBx0q9GaY"
      },
      "source": [
        "#Data spliting (Train and test)"
      ]
    },
    {
      "cell_type": "code",
      "metadata": {
        "id": "evUSDl0Y4I8F"
      },
      "source": [
        "x_train = titanic_train[['Sex','Pclass','Age','SibSp','Parch','Fare','Embarked','IsAlone']].values\r\n",
        "y_train = titanic_train['Survived'].values\r\n",
        "x_test = titanic_test[['Sex','Pclass','Age','SibSp','Parch','Fare','Embarked','IsAlone']].values"
      ],
      "execution_count": 55,
      "outputs": []
    },
    {
      "cell_type": "code",
      "metadata": {
        "colab": {
          "base_uri": "https://localhost:8080/"
        },
        "id": "8XQA7Z5c-x7F",
        "outputId": "fbf631cd-dedc-41d1-90e5-e94fcbb48b55"
      },
      "source": [
        "x_train"
      ],
      "execution_count": 56,
      "outputs": [
        {
          "output_type": "execute_result",
          "data": {
            "text/plain": [
              "array([[ 0.,  3., 22., ...,  0.,  1.,  0.],\n",
              "       [ 1.,  1., 38., ...,  3.,  2.,  0.],\n",
              "       [ 1.,  3., 26., ...,  1.,  1.,  1.],\n",
              "       ...,\n",
              "       [ 1.,  3., 18., ...,  2.,  1.,  0.],\n",
              "       [ 0.,  1., 26., ...,  2.,  2.,  1.],\n",
              "       [ 0.,  3., 32., ...,  0.,  3.,  1.]])"
            ]
          },
          "metadata": {
            "tags": []
          },
          "execution_count": 56
        }
      ]
    },
    {
      "cell_type": "code",
      "metadata": {
        "colab": {
          "base_uri": "https://localhost:8080/"
        },
        "id": "h3ZQ6x-UcUV1",
        "outputId": "69f43c55-cfbb-47d7-a31a-fb8c5454a85f"
      },
      "source": [
        "x_test"
      ],
      "execution_count": 57,
      "outputs": [
        {
          "output_type": "execute_result",
          "data": {
            "text/plain": [
              "array([[ 0. ,  3. , 34.5, ...,  0. ,  3. ,  1. ],\n",
              "       [ 1. ,  3. , 47. , ...,  0. ,  1. ,  0. ],\n",
              "       [ 0. ,  2. , 62. , ...,  1. ,  3. ,  1. ],\n",
              "       ...,\n",
              "       [ 0. ,  3. , 38.5, ...,  0. ,  1. ,  1. ],\n",
              "       [ 0. ,  3. , 27. , ...,  1. ,  1. ,  1. ],\n",
              "       [ 0. ,  3. , 27. , ...,  2. ,  2. ,  0. ]])"
            ]
          },
          "metadata": {
            "tags": []
          },
          "execution_count": 57
        }
      ]
    },
    {
      "cell_type": "markdown",
      "metadata": {
        "id": "G2TO9mlCkmLw"
      },
      "source": [
        "# SVM cross-validation with various kernel"
      ]
    },
    {
      "cell_type": "code",
      "metadata": {
        "id": "Qzqk8kUPkfBA",
        "colab": {
          "base_uri": "https://localhost:8080/"
        },
        "outputId": "b09a8e5e-9e61-4998-a84f-040c7dfa5d71"
      },
      "source": [
        "#Linear SVM \r\n",
        "from sklearn.svm import SVC\r\n",
        "from sklearn.model_selection import GridSearchCV\r\n",
        "lsvm = SVC(kernel='linear',random_state=1)\r\n",
        "lsvm_param = {'C':[0.01,0.1,1,10]}\r\n",
        "gscv_lsvm = GridSearchCV(lsvm, lsvm_param, cv=5)\r\n",
        "gscv_lsvm.fit(x_train, y_train)\r\n",
        "best_parameters = gscv_lsvm.best_params_\r\n",
        "print(best_parameters, gscv_lsvm.best_score_*100)"
      ],
      "execution_count": 58,
      "outputs": [
        {
          "output_type": "stream",
          "text": [
            "{'C': 0.1} 78.8977465319189\n"
          ],
          "name": "stdout"
        }
      ]
    },
    {
      "cell_type": "code",
      "metadata": {
        "id": "mnRi9aQx-MOp"
      },
      "source": [
        "#Polynomial kernel SVM \n",
        "poly = SVC(kernel='poly', degree= 2, random_state=1)\n",
        "poly_param = {'C':[0.01,0.1,1,10], 'gamma':[0.01,0.1,1]}\n",
        "gscv_poly = GridSearchCV(poly, poly_param, cv=5)\n",
        "gscv_poly.fit(x_train, y_train)\n",
        "best_parameters = gscv_poly.best_params_\n",
        "print(best_parameters, gscv_poly.best_score_*100)"
      ],
      "execution_count": null,
      "outputs": []
    },
    {
      "cell_type": "code",
      "metadata": {
        "colab": {
          "base_uri": "https://localhost:8080/"
        },
        "id": "PybS2Vjr89v3",
        "outputId": "90252d74-d9d7-48ff-f84e-05ee5102de6d"
      },
      "source": [
        "#RBF kernel SVM \n",
        "rbf_svm = SVC(kernel='rbf', degree= 2, random_state=1)\n",
        "rbf_param = {'C':[0.01,0.1,1,10], 'gamma':[0.01,0.1,1,10]}\n",
        "gscv_rbf_svm = GridSearchCV(rbf_svm, rbf_param, cv=5)\n",
        "gscv_rbf_svm.fit(x_train, y_train)\n",
        "best_parameters = gscv_rbf_svm.best_params_\n",
        "print(best_parameters, gscv_rbf_svm.best_score_*100)"
      ],
      "execution_count": 61,
      "outputs": [
        {
          "output_type": "stream",
          "text": [
            "{'C': 10, 'gamma': 0.01} 82.49011361496453\n"
          ],
          "name": "stdout"
        }
      ]
    },
    {
      "cell_type": "markdown",
      "metadata": {
        "id": "G_R2KfjFAgKg"
      },
      "source": [
        "In my case, Radial basis filter is best kernel for classification."
      ]
    }
  ]
}